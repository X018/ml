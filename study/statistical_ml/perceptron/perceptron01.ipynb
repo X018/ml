{
 "cells": [
  {
   "cell_type": "code",
   "execution_count": 2,
   "metadata": {
    "collapsed": false
   },
   "outputs": [
    {
     "name": "stdout",
     "output_type": "stream",
     "text": [
      "[[3, 3], [4, 3], [1, 1]]\n",
      "[1, 1, -1]\n",
      "w0 w1 b: 0 0 0\n",
      "Adjust Num:1\n",
      "w0 w1 b: 3 3 1\n",
      "Adjust Num:2\n",
      "w0 w1 b: 2 2 0\n",
      "Adjust Num:3\n",
      "w0 w1 b: 1 1 -1\n",
      "Adjust Num:4\n",
      "w0 w1 b: 0 0 -2\n",
      "Adjust Num:5\n",
      "w0 w1 b: 3 3 -1\n",
      "Adjust Num:6\n",
      "w0 w1 b: 2 2 -2\n",
      "Adjust Num:7\n",
      "w0 w1 b: 1 1 -3\n",
      "w0 w1 b: 1 1 -3\n"
     ]
    }
   ],
   "source": [
    "class perceptron:\n",
    "    def __init__(self, learn_rate, w0, w1, b):\n",
    "        self.learn_rate = learn_rate\n",
    "        self.w0 = w0\n",
    "        self.w1 = w1\n",
    "        self.b = b\n",
    "        \n",
    "    def is_y_error(self, x, y):\n",
    "        result = y * (x[0] * self.w0 + x[1] * self.w1 + self.b)\n",
    "        if result <= 0:\n",
    "            return False\n",
    "        else:\n",
    "            return True\n",
    "        \n",
    "    def adjust_param(self, x, y):\n",
    "        self.w0 = self.w0 + self.learn_rate * y * x[0]\n",
    "        self.w1 = self.w1 + self.learn_rate * y * x[1]\n",
    "        self.b = self.b + self.learn_rate * y\n",
    "        \n",
    "    def train_data(self, X, y, num):\n",
    "        count = 0\n",
    "        is_over = False\n",
    "        while not is_over:\n",
    "            print(\"w0 w1 b: \" + str(self.w0) + \" \" + str(self.w1) + \" \" + str(self.b))\n",
    "            for i in range(0, num):\n",
    "                if not self.is_y_error(X[i], y[i]):\n",
    "                    count += 1\n",
    "                    print(\"Adjust Num:\" + str(count))\n",
    "                    self.adjust_param(X[i], y[i])\n",
    "                    is_over = False\n",
    "                    break\n",
    "                else:\n",
    "                    is_over =True\n",
    "        print(\"w0 w1 b: \" + str(self.w0) + \" \" + str(self.w1) + \" \" + str(self.b))\n",
    "\n",
    "p = perceptron(1, 0, 0, 0)\n",
    "data = [[3,3,1],[4,3,1],[1,1,-1]]\n",
    "X = [d[:-1] for d in data]\n",
    "y = [d[-1] for d in data]\n",
    "print(X)\n",
    "print(y)\n",
    "p.train_data(X, y, 3)"
   ]
  },
  {
   "cell_type": "code",
   "execution_count": null,
   "metadata": {
    "collapsed": true
   },
   "outputs": [],
   "source": []
  }
 ],
 "metadata": {
  "kernelspec": {
   "display_name": "Python 3",
   "language": "python",
   "name": "python3"
  },
  "language_info": {
   "codemirror_mode": {
    "name": "ipython",
    "version": 3
   },
   "file_extension": ".py",
   "mimetype": "text/x-python",
   "name": "python",
   "nbconvert_exporter": "python",
   "pygments_lexer": "ipython3",
   "version": "3.6.0"
  }
 },
 "nbformat": 4,
 "nbformat_minor": 2
}
