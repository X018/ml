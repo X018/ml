{
 "cells": [
  {
   "cell_type": "markdown",
   "metadata": {},
   "source": [
    "# Python Basics\n",
    "https://campus.datacamp.com/courses/intro-to-python-for-data-science/chapter-1-python-basics?ex=1\n",
    "\n",
    "    An introduction to the basic concepts of Python. Learn how to use Python both interactively and through a script. Create your first variables and acquaint yourself with Python's basic data types."
   ]
  },
  {
   "cell_type": "markdown",
   "metadata": {},
   "source": [
    "## 1. Hello Python!\n",
    "https://campus.datacamp.com/courses/intro-to-python-for-data-science/chapter-1-python-basics?ex=1"
   ]
  },
  {
   "cell_type": "markdown",
   "metadata": {},
   "source": [
    "## 2. The Python Interface\n",
    "https://campus.datacamp.com/courses/intro-to-python-for-data-science/chapter-1-python-basics?ex=2\n",
    "\n",
    "    In the Python script on the right, you can type Python code to solve the exercises. If you hit Submit Answer, your python script (script.py) is executed and the output is shown in the IPython Shell. DataCamp checks whether your submission is correct and gives you feedback.\n",
    "\n",
    "    You can hit Submit Answer as often as you want. If you're stuck, you can click Get Hint, and ultimately Get Solution.\n",
    "\n",
    "    You can also use the IPython Shell interactively by simply typing commands and hitting Enter. When you work in the shell directly, your code will not be checked for correctness so it is a great way to experiment.\n",
    "\n",
    "### Instructions\n",
    "    Experiment in the IPython Shell; type 5 / 8, for example.\n",
    "    Add another line of code to the Python script: print(7 + 10).\n",
    "    Hit Submit Answer to execute the Python script and receive feedback."
   ]
  },
  {
   "cell_type": "code",
   "execution_count": 1,
   "metadata": {
    "collapsed": false
   },
   "outputs": [
    {
     "name": "stdout",
     "output_type": "stream",
     "text": [
      "0.625\n",
      "17\n"
     ]
    }
   ],
   "source": [
    "# Example, do not modify!\n",
    "print(5 / 8)\n",
    "\n",
    "# Put code below here\n",
    "print(7 + 10)"
   ]
  },
  {
   "cell_type": "markdown",
   "metadata": {},
   "source": [
    "## 3. When to use Python?\n",
    "https://campus.datacamp.com/courses/intro-to-python-for-data-science/chapter-1-python-basics?ex=3\n",
    "\n",
    "    Python is a pretty versatile language. For what applications can you use Python?\n",
    "\n",
    "### Possible Answers\n",
    "    You want to do some quick calculations.\n",
    "    For your new business, you want to develop a database-driven website.\n",
    "    Your boss asks you to clean and analyze the results of the latest satisfaction survey.\n",
    "    All of the above."
   ]
  },
  {
   "cell_type": "markdown",
   "metadata": {},
   "source": [
    "## 4. Any comments?\n",
    "https://campus.datacamp.com/courses/intro-to-python-for-data-science/chapter-1-python-basics?ex=4\n",
    "\n",
    "    Something that Filip didn't mention in his videos is that you can add comments to your Python scripts. Comments are important to make sure that you and others can understand what your code is about.\n",
    "\n",
    "    To add comments to your Python script, you can use the # tag. These comments are not run as Python code, so they will not influence your result. As an example, take the comment on the right, # Just testing division: it is completely ignored during execution.\n",
    "\n",
    "### Instructions\n",
    "    Above the print(7 + 10), add the comment # Addition works too."
   ]
  },
  {
   "cell_type": "code",
   "execution_count": 2,
   "metadata": {
    "collapsed": false
   },
   "outputs": [
    {
     "name": "stdout",
     "output_type": "stream",
     "text": [
      "0.625\n",
      "17\n"
     ]
    }
   ],
   "source": [
    "# Just testing division\n",
    "print(5 / 8)\n",
    "\n",
    "# Addition works too\n",
    "print(7 + 10)"
   ]
  },
  {
   "cell_type": "markdown",
   "metadata": {},
   "source": [
    "## 5. Python as a calculator\n",
    "https://campus.datacamp.com/courses/intro-to-python-for-data-science/chapter-1-python-basics?ex=5\n",
    "\n",
    "    Python is perfectly suited to do basic calculations. Apart from addition, subtraction, multiplication and division, there is also support for more advanced operations such as:\n",
    "    Exponentiation: **. This operator raises the number to its left to the power of the number to its right: for example 4**2 will give 16.\n",
    "    Modulo: %. It returns the remainder of the division of the number to the left by the number on its right, for example 18 % 7 equals 4.\n",
    "    \n",
    "    The code in the script on the right gives some examples.\n",
    "\n",
    "### Instructions\n",
    "    Suppose you have $100, which you can invest with a 10% return each year. After one year, it's 100×1.1=110 dollars, and after two years it's 100×1.1×1.1=121. Add code on the right to calculate how much money you end up with after 7 years."
   ]
  },
  {
   "cell_type": "code",
   "execution_count": 3,
   "metadata": {
    "collapsed": false
   },
   "outputs": [
    {
     "name": "stdout",
     "output_type": "stream",
     "text": [
      "10\n",
      "0\n",
      "15\n",
      "5.0\n",
      "16\n",
      "4\n",
      "194.87171000000012\n"
     ]
    }
   ],
   "source": [
    "# Addition and subtraction\n",
    "print(5 + 5)\n",
    "print(5 - 5)\n",
    "\n",
    "# Multiplication and division\n",
    "print(3 * 5)\n",
    "print(10 / 2)\n",
    "\n",
    "# Exponentiation\n",
    "print(4 ** 2)\n",
    "\n",
    "# Modulo\n",
    "print(18 % 7)\n",
    "\n",
    "# How much is your $100 worth after 7 years?\n",
    "print(100 * (1.1 ** 7))"
   ]
  },
  {
   "cell_type": "markdown",
   "metadata": {},
   "source": [
    "## 6. Variables & Types\n",
    "https://campus.datacamp.com/courses/intro-to-python-for-data-science/chapter-1-python-basics?ex=6"
   ]
  },
  {
   "cell_type": "code",
   "execution_count": 4,
   "metadata": {
    "collapsed": false
   },
   "outputs": [
    {
     "data": {
      "text/plain": [
       "1.79"
      ]
     },
     "execution_count": 4,
     "metadata": {},
     "output_type": "execute_result"
    }
   ],
   "source": [
    "height = 1.79\n",
    "weight = 68.7\n",
    "height"
   ]
  },
  {
   "cell_type": "code",
   "execution_count": 5,
   "metadata": {
    "collapsed": false
   },
   "outputs": [
    {
     "data": {
      "text/plain": [
       "21.44127836209856"
      ]
     },
     "execution_count": 5,
     "metadata": {},
     "output_type": "execute_result"
    }
   ],
   "source": [
    "68.7 / 1.79 ** 2"
   ]
  },
  {
   "cell_type": "code",
   "execution_count": 6,
   "metadata": {
    "collapsed": false
   },
   "outputs": [
    {
     "data": {
      "text/plain": [
       "21.44127836209856"
      ]
     },
     "execution_count": 6,
     "metadata": {},
     "output_type": "execute_result"
    }
   ],
   "source": [
    "weight / height ** 2"
   ]
  },
  {
   "cell_type": "code",
   "execution_count": 7,
   "metadata": {
    "collapsed": false
   },
   "outputs": [
    {
     "data": {
      "text/plain": [
       "21.44127836209856"
      ]
     },
     "execution_count": 7,
     "metadata": {},
     "output_type": "execute_result"
    }
   ],
   "source": [
    "bmi = weight / height ** 2\n",
    "bmi"
   ]
  },
  {
   "cell_type": "code",
   "execution_count": 8,
   "metadata": {
    "collapsed": false
   },
   "outputs": [
    {
     "name": "stdout",
     "output_type": "stream",
     "text": [
      "23.157829031553323\n"
     ]
    }
   ],
   "source": [
    "height = 1.79\n",
    "weight = 74.2\n",
    "bmi = weight / height ** 2\n",
    "print(bmi)"
   ]
  },
  {
   "cell_type": "code",
   "execution_count": 9,
   "metadata": {
    "collapsed": false
   },
   "outputs": [
    {
     "data": {
      "text/plain": [
       "float"
      ]
     },
     "execution_count": 9,
     "metadata": {},
     "output_type": "execute_result"
    }
   ],
   "source": [
    "type(bmi)"
   ]
  },
  {
   "cell_type": "code",
   "execution_count": 10,
   "metadata": {
    "collapsed": false
   },
   "outputs": [
    {
     "data": {
      "text/plain": [
       "int"
      ]
     },
     "execution_count": 10,
     "metadata": {},
     "output_type": "execute_result"
    }
   ],
   "source": [
    "day_of_week = 5\n",
    "type(day_of_week)"
   ]
  },
  {
   "cell_type": "code",
   "execution_count": 11,
   "metadata": {
    "collapsed": false
   },
   "outputs": [
    {
     "data": {
      "text/plain": [
       "str"
      ]
     },
     "execution_count": 11,
     "metadata": {},
     "output_type": "execute_result"
    }
   ],
   "source": [
    "x = \"body mass index\"\n",
    "y = 'this works too'\n",
    "type(x)"
   ]
  },
  {
   "cell_type": "code",
   "execution_count": 12,
   "metadata": {
    "collapsed": false
   },
   "outputs": [
    {
     "data": {
      "text/plain": [
       "bool"
      ]
     },
     "execution_count": 12,
     "metadata": {},
     "output_type": "execute_result"
    }
   ],
   "source": [
    "z = True\n",
    "type(z)"
   ]
  },
  {
   "cell_type": "code",
   "execution_count": 13,
   "metadata": {
    "collapsed": false
   },
   "outputs": [
    {
     "data": {
      "text/plain": [
       "5"
      ]
     },
     "execution_count": 13,
     "metadata": {},
     "output_type": "execute_result"
    }
   ],
   "source": [
    "2 + 3"
   ]
  },
  {
   "cell_type": "code",
   "execution_count": 14,
   "metadata": {
    "collapsed": false
   },
   "outputs": [
    {
     "data": {
      "text/plain": [
       "'abcd'"
      ]
     },
     "execution_count": 14,
     "metadata": {},
     "output_type": "execute_result"
    }
   ],
   "source": [
    "'ab' +'cd'"
   ]
  },
  {
   "cell_type": "markdown",
   "metadata": {},
   "source": [
    "## 7. Variable Assignment\n",
    "https://campus.datacamp.com/courses/intro-to-python-for-data-science/chapter-1-python-basics?ex=7\n",
    "\n",
    "    In Python, a variable allows you to refer to a value with a name. To create a variable use =, like this example:\n",
    "    x = 5\n",
    "    \n",
    "    You can now use the name of this variable, x, instead of the actual value, 5.\n",
    "\n",
    "    Remember, = in Python means assignment, not equality!\n",
    "\n",
    "### Instructions\n",
    "    Create a variable savings with the value 100.\n",
    "    Check out this variable by typing print(savings) in the script."
   ]
  },
  {
   "cell_type": "code",
   "execution_count": 15,
   "metadata": {
    "collapsed": false
   },
   "outputs": [
    {
     "name": "stdout",
     "output_type": "stream",
     "text": [
      "100\n"
     ]
    }
   ],
   "source": [
    "# Create a variable savings\n",
    "savings = 100\n",
    "\n",
    "# Print out savings\n",
    "print(savings)"
   ]
  },
  {
   "cell_type": "markdown",
   "metadata": {},
   "source": [
    "## 8. Calculations with variables\n",
    "https://campus.datacamp.com/courses/intro-to-python-for-data-science/chapter-1-python-basics?ex=8\n",
    "\n",
    "    Remember how you calculated the money you ended up with after 7 years of investing 100? You did something like this:\n",
    "    100 * 1.10 ** 7\n",
    "\n",
    "    Instead of calculating with the actual values, you can use variables instead. The savings variable you've created in the previous exercise represents the 100 you started with. It's up to you to create a new variable to represent 1.10 and then redo the calculations!\n",
    "\n",
    "### Instructions\n",
    "    Create a variable factor, equal to 1.10.\n",
    "    Use savings and factor to calculate the amount of money you end up with after 7 years. Store the result in a new variable, result.\n",
    "    Print out the value of result."
   ]
  },
  {
   "cell_type": "code",
   "execution_count": 16,
   "metadata": {
    "collapsed": false
   },
   "outputs": [
    {
     "name": "stdout",
     "output_type": "stream",
     "text": [
      "194.87171000000012\n"
     ]
    }
   ],
   "source": [
    "# Create a variable savings\n",
    "savings = 100\n",
    "\n",
    "# Create a variable factor\n",
    "factor = 1.10\n",
    "\n",
    "# Calculate result\n",
    "result = savings * factor ** 7\n",
    "\n",
    "# Print out result\n",
    "print(result)"
   ]
  },
  {
   "cell_type": "markdown",
   "metadata": {},
   "source": [
    "## 9. Other variable types\n",
    "https://campus.datacamp.com/courses/intro-to-python-for-data-science/chapter-1-python-basics?ex=9\n",
    "\n",
    "    In the previous exercise, you worked with two Python data types:\n",
    "    int, or integer: a number without a fractional part. savings, with the value 100, is an example of an integer.\n",
    "    float, or floating point: a number that has both an integer and fractional part, separated by a point. factor, with the value 1.10, is an example of a float.\n",
    "    \n",
    "    Next to numerical data types, there are two other very common data types:\n",
    "    str, or string: a type to represent text. You can use single or double quotes to build a string.\n",
    "    bool, or boolean: a type to represent logical values. Can only be True or False (the capitalization is important!).\n",
    "\n",
    "### Instructions\n",
    "    Create a new string, desc, with the value \"compound interest\".\n",
    "    Create a new boolean, profitable, with the value True."
   ]
  },
  {
   "cell_type": "code",
   "execution_count": 17,
   "metadata": {
    "collapsed": true
   },
   "outputs": [],
   "source": [
    "# Create a variable desc\n",
    "desc = 'compound interest'\n",
    "\n",
    "# Create a variable profitable\n",
    "profitable = True"
   ]
  },
  {
   "cell_type": "markdown",
   "metadata": {},
   "source": [
    "## 10. Guess the type\n",
    "https://campus.datacamp.com/courses/intro-to-python-for-data-science/chapter-1-python-basics?ex=10\n",
    "\n",
    "    To find out the type of a value or a variable that refers to that value, you can use the type() function. Suppose you've defined a variable a, but you forgot the type of this variable. To determine the type of a, simply execute:\n",
    "    type(a)\n",
    "    \n",
    "    We already went ahead and created three variables: a, b and c. You can use the IPython shell on the right to discover their type. Which of the following options is correct?\n",
    "\n",
    "### Possible Answers\n",
    "    a is of type int, b is of type str, c is of type bool\n",
    "    a is of type float, b is of type bool, c is of type str\n",
    "    a is of type float, b is of type str, c is of type bool\n",
    "    a is of type int, b is of type bool, c is of type str"
   ]
  },
  {
   "cell_type": "markdown",
   "metadata": {},
   "source": [
    "## 11. Operations with other types\n",
    "https://campus.datacamp.com/courses/intro-to-python-for-data-science/chapter-1-python-basics?ex=11\n",
    "    \n",
    "    Filip mentioned that different types behave differently in Python.\n",
    "\n",
    "    When you sum two strings, for example, you'll get different behavior than when you sum two integers or two booleans.\n",
    "\n",
    "    In the script some variables with different types have already been created. It's up to you to use them.\n",
    "\n",
    "### Instructions\n",
    "    Calculate the product of savings and factor. Store the result in year1.\n",
    "    What do you think the resulting type will be? Find out by printing out the type of year1.\n",
    "    Calculate the sum of desc and desc and store the result in a new variable doubledesc.\n",
    "    Print out doubledesc. Did you expect this?"
   ]
  },
  {
   "cell_type": "code",
   "execution_count": 18,
   "metadata": {
    "collapsed": false
   },
   "outputs": [
    {
     "name": "stdout",
     "output_type": "stream",
     "text": [
      "<class 'float'>\n",
      "compound interestcompound interest\n"
     ]
    }
   ],
   "source": [
    "# Several variables to experiment with\n",
    "savings = 100\n",
    "factor = 1.1\n",
    "desc = \"compound interest\"\n",
    "\n",
    "# Assign product of factor and savings to year1\n",
    "year1 = savings * factor\n",
    "\n",
    "# Print the type of year1\n",
    "print(type(year1))\n",
    "\n",
    "# Assign sum of desc and desc to doubledesc\n",
    "doubledesc = desc + desc\n",
    "\n",
    "# Print out doubledesc\n",
    "print(doubledesc)"
   ]
  },
  {
   "cell_type": "markdown",
   "metadata": {},
   "source": [
    "## 12. Type conversion\n",
    "https://campus.datacamp.com/courses/intro-to-python-for-data-science/chapter-1-python-basics?ex=12\n",
    "\n",
    "    Using the + operator to paste together two strings can be very useful in building custom messages.\n",
    "\n",
    "    Suppose for example that you've calculated the return of your investment, and want to summarize the results in a string. Assuming the floats savings and result are defined, you can try something like this:\n",
    "    print(\"I started with \" + savings + \" and now have \" + result + \". Awesome!\")\n",
    "\n",
    "    This will not work, though, as you cannot simply sum strings and floats.\n",
    "\n",
    "    To fix the error, you'll need to explicitly convert the types of your variables. More specifically, you'll need str(), to convert a value into a string. str(savings), for example, will convert the float savings to a string.\n",
    "\n",
    "    Similar functions such as int(), float() and bool() will help you convert Python values into any type.\n",
    "\n",
    "### Instructions\n",
    "    Hit Submit Answer to run the code on the right. Try to understand the error message.\n",
    "    Fix the code on the right such that the printout runs without errors; use the function str() to convert the variables to strings.\n",
    "    Convert the variable pi_string to a float and store this float as a new variable, pi_float."
   ]
  },
  {
   "cell_type": "code",
   "execution_count": 19,
   "metadata": {
    "collapsed": false
   },
   "outputs": [
    {
     "name": "stdout",
     "output_type": "stream",
     "text": [
      "I started with $100 and now have $194.87171000000012. Awesome!\n"
     ]
    }
   ],
   "source": [
    "# Definition of savings and result\n",
    "savings = 100\n",
    "result = 100 * 1.10 ** 7\n",
    "\n",
    "# Fix the printout\n",
    "print(\"I started with $\" + str(savings) + \" and now have $\" + str(result) + \". Awesome!\")\n",
    "\n",
    "# Definition of pi_string\n",
    "pi_string = \"3.1415926\"\n",
    "\n",
    "# Convert pi_string into float: pi_float\n",
    "pi_float = float(pi_string)"
   ]
  },
  {
   "cell_type": "markdown",
   "metadata": {},
   "source": [
    "## 13. Can Python handle everything?\n",
    "https://campus.datacamp.com/courses/intro-to-python-for-data-science/chapter-1-python-basics?ex=13\n",
    "\n",
    "    Now that you know something more about combining different sources of information, have a look at the four Python expressions below. Which one of these will throw an error? You can always copy and paste this code in the IPython Shell to find out!\n",
    "\n",
    "### Possible Answers\n",
    "    \"I can add integers, like \" + str(5) + \" to strings.\"\n",
    "    \"I said \" + (\"Hey \" * 2) + \"Hey!\"\n",
    "    \"The correct answer to this multiple choice exercise is answer number \" + 2\n",
    "    True + False"
   ]
  }
 ],
 "metadata": {
  "kernelspec": {
   "display_name": "Python 3",
   "language": "python",
   "name": "python3"
  },
  "language_info": {
   "codemirror_mode": {
    "name": "ipython",
    "version": 3
   },
   "file_extension": ".py",
   "mimetype": "text/x-python",
   "name": "python",
   "nbconvert_exporter": "python",
   "pygments_lexer": "ipython3",
   "version": "3.6.0"
  }
 },
 "nbformat": 4,
 "nbformat_minor": 2
}
