{
 "cells": [
  {
   "cell_type": "markdown",
   "metadata": {},
   "source": [
    "# Intro to Python for Data Science\n",
    "https://www.datacamp.com/courses/intro-to-python-for-data-science\n",
    "\n",
    "## Course Description\n",
    "    Python is a general-purpose programming language that is becoming more and more popular for doing data science. Companies worldwide are using Python to harvest insights from their data and get a competitive edge. Unlike any other Python tutorial, this course focuses on Python specifically for data science. In our Intro to Python class, you will learn about powerful ways to store and manipulate data as well as cool data science tools to start your own analyses. Enter DataCamp’s online Python curriculum.\n",
    "\n",
    "## 1. Python Basics \n",
    "8%\n",
    "An introduction to the basic concepts of Python. Learn how to use Python both interactively and through a script. Create your first variables and acquaint yourself with Python's basic data types.\n",
    "Hide Chapter Details\n",
    "Continue Chapter\n",
    "\n",
    "## 2. Python Lists \n",
    "0%\n",
    "Learn to store, access and manipulate data in lists: the first step towards efficiently working with huge amounts of data.\n",
    "View Chapter Details\n",
    "Play Chapter Now\n",
    "\n",
    "## 3. Functions and Packages \n",
    "0%\n",
    "To leverage the code that brilliant Python developers have written, you'll learn about using functions, methods and packages. This will help you to reduce the amount of code you need to solve challenging problems!\n",
    "View Chapter Details\n",
    "Play Chapter Now\n",
    "\n",
    "## 4. Numpy \n",
    "0%\n",
    "Numpy is a Python package to efficiently do data science. Learn to work with the Numpy array, a faster and more powerful alternative to the list, and take your first steps in data exploration.\n",
    "View Chapter Details\n",
    "Play Chapter Now"
   ]
  }
 ],
 "metadata": {
  "kernelspec": {
   "display_name": "Python 3",
   "language": "python",
   "name": "python3"
  },
  "language_info": {
   "codemirror_mode": {
    "name": "ipython",
    "version": 3
   },
   "file_extension": ".py",
   "mimetype": "text/x-python",
   "name": "python",
   "nbconvert_exporter": "python",
   "pygments_lexer": "ipython3",
   "version": "3.6.0"
  }
 },
 "nbformat": 4,
 "nbformat_minor": 2
}
