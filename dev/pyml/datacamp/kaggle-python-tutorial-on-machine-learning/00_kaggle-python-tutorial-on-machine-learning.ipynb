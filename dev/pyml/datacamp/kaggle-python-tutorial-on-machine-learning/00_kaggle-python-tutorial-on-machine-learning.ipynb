{
 "cells": [
  {
   "cell_type": "markdown",
   "metadata": {},
   "source": [
    "# Kaggle Python Tutorial on Machine Learning\n",
    "https://www.datacamp.com/community/open-courses/kaggle-python-tutorial-on-machine-learning#gs.gVUyYEE\n",
    "\n",
    "    16 Exercises\n",
    "    1 hour\n",
    "    15,813 Participants\n",
    "    1,450 XP\n",
    "    1.1k91119014\n",
    "\n",
    "## Open Course Description\n",
    "\n",
    "    Always wanted to compete in a Kaggle competition but not sure you have the right skillset? This interactive tutorial by Kaggle and DataCamp on Machine Learning offers the solution. Step-by-step you will learn through fun coding exercises how to predict survival rate for Kaggle's Titanic competition using Machine Learning techniques. Upload your results and see your ranking go up! \n",
    "\n",
    "    New to Python? Give our Introduction to Python for Data Science course a try.\n",
    "\n",
    "## Chapter 1: Getting Started with Python\n",
    "    In this chapter we will go trough the essential steps that you will need to take before beginning to build predictive models.\n",
    "\n",
    "## Chapter 2: Predicting with Decision Trees\n",
    "    After making your first predictions in the previous chapter, it's time to bring you to the next level. In chapter 2 you\n",
    "\n",
    "## Chapter 3: Improving your predictions through Random Forests\n",
    "    What techniques can you use to improve your predictions even more? One possible way is by making use of the machine learning method Random Forest. Namely, a forest is just a collection of trees..."
   ]
  }
 ],
 "metadata": {
  "kernelspec": {
   "display_name": "Python 3",
   "language": "python",
   "name": "python3"
  },
  "language_info": {
   "codemirror_mode": {
    "name": "ipython",
    "version": 3
   },
   "file_extension": ".py",
   "mimetype": "text/x-python",
   "name": "python",
   "nbconvert_exporter": "python",
   "pygments_lexer": "ipython3",
   "version": "3.6.0"
  }
 },
 "nbformat": 4,
 "nbformat_minor": 2
}
