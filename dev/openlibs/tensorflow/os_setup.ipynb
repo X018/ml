{
 "cells": [
  {
   "cell_type": "markdown",
   "metadata": {},
   "source": [
    "# 下载与安装\n",
    "http://wiki.jikexueyuan.com/project/tensorflow-zh/get_started/os_setup.html\n",
    "\n",
    "    你可以使用我们提供的 Pip, Docker, Virtualenv, Anaconda 或 源码编译的方法安装 TensorFlow."
   ]
  },
  {
   "cell_type": "markdown",
   "metadata": {},
   "source": [
    "## Pip 安装\n",
    "    Pip 是一个 Python 的软件包安装与管理工具.\n",
    "\n",
    "    在安装 TensorFlow 过程中要涉及安装或升级的包详见 列表\n",
    "\n",
    "    首先安装 pip (或 Python3 的 pip3 ):\n",
    "\n",
    "    # Ubuntu/Linux 64-bit\n",
    "    $ sudo apt-get install python-pip python-dev\n",
    "\n",
    "    # Mac OS X\n",
    "    $ sudo easy_install pip\n",
    "\n",
    "### 安装 TensorFlow :\n",
    "\n",
    "    # Ubuntu/Linux 64-bit, CPU only, Python 2.7:\n",
    "    $ sudo pip install --upgrade https://storage.googleapis.com/tensorflow/linux/cpu/tensorflow-0.8.0-cp27-none-linux_x86_64.whl\n",
    "\n",
    "    # Ubuntu/Linux 64-bit, GPU enabled, Python 2.7. Requires CUDA toolkit 7.5 and CuDNN v4.\n",
    "    # For other versions, see \"Install from sources\" below.\n",
    "    $ sudo pip install --upgrade https://storage.googleapis.com/tensorflow/linux/gpu/tensorflow-0.8.0-cp27-none-linux_x86_64.whl\n",
    "\n",
    "    # Mac OS X, CPU only:\n",
    "    $ sudo easy_install --upgrade six\n",
    "    $ sudo pip install --upgrade https://storage.googleapis.com/tensorflow/mac/tensorflow-0.8.0-py2-none-any.whl\n",
    "\n",
    "### 如果是 Python3 :\n",
    "    # Ubuntu/Linux 64-bit, CPU only, Python 3.4:\n",
    "    $ sudo pip3 install --upgrade https://storage.googleapis.com/tensorflow/linux/cpu/tensorflow-0.8.0-cp34-cp34m-linux_x86_64.whl\n",
    "\n",
    "    # Ubuntu/Linux 64-bit, GPU enabled, Python 3.4. Requires CUDA toolkit 7.5 and CuDNN v4.\n",
    "    # For other versions, see \"Install from sources\" below.\n",
    "    $ sudo pip3 install --upgrade https://storage.googleapis.com/tensorflow/linux/gpu/tensorflow-0.8.0-cp34-cp34m-linux_x86_64.whl\n",
    "\n",
    "    # Mac OS X, CPU only:\n",
    "    $ sudo easy_install --upgrade six\n",
    "    $ sudo pip3 install --upgrade https://storage.googleapis.com/tensorflow/mac/tensorflow-0.8.0-py3-none-any.whl\n",
    "\n",
    "    备注：如果之前安装过 TensorFlow < 0.7.1 的版本,应该先使用 pip uninstall 卸载 TensorFlow 和 protobuf ,保证获取的是一个最新 protobuf 依赖下的安装包.\n",
    "\n",
    "    之后可以测试一下."
   ]
  },
  {
   "cell_type": "markdown",
   "metadata": {},
   "source": [
    "## 基于 Anaconda 的安装\n",
    "    Anaconda 是一个集成许多第三方科学计算库的 Python 科学计算环境,Anaconda 使用 conda 作为自己的包管理工具,同时具有自己的计算环境,类似 Virtualenv.\n",
    "\n",
    "    和 Virtualenv 一样,不同 Python 工程需要的依赖包,conda 将他们存储在不同的地方。 TensorFlow 上安装的 Anaconda 不会对之前安装的 Python 包进行覆盖.\n",
    "    安装 Anaconda\n",
    "    建立一个 conda 计算环境\n",
    "    激活环境,使用 conda 安装 TensorFlow\n",
    "    安装成功后,每次使用 TensorFlow 的时候需要激活 conda 环境\n",
    "\n",
    "### 安装 Anaconda :\n",
    "\n",
    "    参考 Anaconda 的下载页面的指导\n",
    "\n",
    "    建立一个 conda 计算环境名字叫tensorflow:\n",
    "\n",
    "    # Python 2.7\n",
    "    $ conda create -n tensorflow python=2.7\n",
    "\n",
    "    # Python 3.4\n",
    "    $ conda create -n tensorflow python=3.4\n",
    "\n",
    "    激活tensorflow环境,然后使用其中的 pip 安装 TensorFlow. 当使用easy_install使用--ignore-installed标记防止错误的产生。\n",
    "\n",
    "    $ source activate tensorflow\n",
    "    (tensorflow)$  # Your prompt should change\n",
    "\n",
    "    # Ubuntu/Linux 64-bit, CPU only, Python 2.7:\n",
    "    (tensorflow)$ pip install --ignore-installed --upgrade https://storage.googleapis.com/tensorflow/linux/cpu/tensorflow-0.8.0rc0-cp27-none-linux_x86_64.whl\n",
    "\n",
    "    # Ubuntu/Linux 64-bit, GPU enabled, Python 2.7. Requires CUDA toolkit 7.5 and CuDNN v4.\n",
    "    # For other versions, see \"Install from sources\" below.\n",
    "    (tensorflow)$ pip install --ignore-installed --upgrade https://storage.googleapis.com/tensorflow/linux/gpu/tensorflow-0.8.0rc0-cp27-none-linux_x86_64.whl\n",
    "\n",
    "    # Mac OS X, CPU only:\n",
    "    (tensorflow)$ pip install --ignore-installed --upgrade https://storage.googleapis.com/tensorflow/mac/tensorflow-0.8.0rc0-py2-none-any.whl\n",
    "\n",
    "### 对于 Python 3.x :\n",
    "\n",
    "    $ source activate tensorflow\n",
    "    (tensorflow)$  # Your prompt should change\n",
    "\n",
    "    # Ubuntu/Linux 64-bit, CPU only, Python 3.4:\n",
    "    (tensorflow)$ pip install --ignore-installed --upgrade https://storage.googleapis.com/tensorflow/linux/cpu/tensorflow-0.8.0rc0-cp34-cp34m-linux_x86_64.whl\n",
    "\n",
    "    # Ubuntu/Linux 64-bit, GPU enabled, Python 3.4. Requires CUDA toolkit 7.5 and CuDNN v4.\n",
    "    # For other versions, see \"Install from sources\" below.\n",
    "    (tensorflow)$ pip install --ignore-installed --upgrade https://storage.googleapis.com/tensorflow/linux/gpu/tensorflow-0.8.0rc0-cp34-cp34m-linux_x86_64.whl\n",
    "\n",
    "    # Mac OS X, CPU only:\n",
    "    (tensorflow)$ pip install --ignore-installed --upgrade https://storage.googleapis.com/tensorflow/mac/tensorflow-0.8.0rc0-py3-none-any.whl\n",
    "\n",
    "    conda 环境激活后,你可以测试\n",
    "    当你不用 TensorFlow 的时候,关闭环境:\n",
    "\n",
    "    (tensorflow)$ source deactivate\n",
    "\n",
    "    $  # Your prompt should change back\n",
    "\n",
    "    再次使用的时候再激活 :-)\n",
    "\n",
    "    $ source activate tensorflow\n",
    "    (tensorflow)$  # Your prompt should change.\n",
    "    # Run Python programs that use TensorFlow.\n",
    "    ...\n",
    "    # When you are done using TensorFlow, deactivate the environment.\n",
    "    (tensorflow)$ source deactivate"
   ]
  },
  {
   "cell_type": "markdown",
   "metadata": {
    "collapsed": true
   },
   "source": [
    "## 尝试你的第一个 TensorFlow 程序\n",
    "\n",
    "### (可选) 启用 GPU 支持\n",
    "    如果你使用 pip 二进制包安装了开启 GPU 支持的 TensorFlow, 你必须确保 系统里安装了正确的 CUDA sdk 和 CUDNN 版本. 请参间 CUDA 安装教程\n",
    "\n",
    "    你还需要设置 LD_LIBRARY_PATH 和 CUDA_HOME 环境变量. 可以考虑将下面的命令 添加到 ~/.bash_profile 文件中, 这样每次登陆后自动生效. 注意, 下面的命令 假定 CUDA 安装目录为 /usr/local/cuda:\n",
    "\n",
    "    export LD_LIBRARY_PATH=\"$LD_LIBRARY_PATH:/usr/local/cuda/lib64\"\n",
    "    export CUDA_HOME=/usr/local/cuda\n",
    "\n",
    "### 运行 TensorFlow\n",
    "    打开一个 python 终端:"
   ]
  },
  {
   "cell_type": "code",
   "execution_count": 2,
   "metadata": {},
   "outputs": [
    {
     "name": "stdout",
     "output_type": "stream",
     "text": [
      "b'Hello, TensorFlow!'\n"
     ]
    }
   ],
   "source": [
    "import tensorflow as tf\n",
    "\n",
    "hello_tf = tf.constant('Hello, TensorFlow!')\n",
    "sess = tf.Session()\n",
    "print(sess.run(hello_tf))"
   ]
  },
  {
   "cell_type": "code",
   "execution_count": 4,
   "metadata": {},
   "outputs": [
    {
     "name": "stdout",
     "output_type": "stream",
     "text": [
      "42\n"
     ]
    }
   ],
   "source": [
    "a = tf.constant(10)\n",
    "b = tf.constant(32)\n",
    "print(sess.run(a+b))"
   ]
  },
  {
   "cell_type": "code",
   "execution_count": null,
   "metadata": {
    "collapsed": true
   },
   "outputs": [],
   "source": []
  }
 ],
 "metadata": {
  "kernelspec": {
   "display_name": "Python 3",
   "language": "python",
   "name": "python3"
  },
  "language_info": {
   "codemirror_mode": {
    "name": "ipython",
    "version": 3
   },
   "file_extension": ".py",
   "mimetype": "text/x-python",
   "name": "python",
   "nbconvert_exporter": "python",
   "pygments_lexer": "ipython3",
   "version": "3.6.1"
  }
 },
 "nbformat": 4,
 "nbformat_minor": 2
}
