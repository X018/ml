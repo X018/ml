{
 "cells": [
  {
   "cell_type": "markdown",
   "metadata": {},
   "source": [
    "# 使用Python进行描述性统计\n",
    "    http://www.cnblogs.com/jasonfreak/p/5441512.html"
   ]
  },
  {
   "cell_type": "markdown",
   "metadata": {},
   "source": [
    "    1 描述性统计是什么？\n",
    "    2 使用NumPy和SciPy进行数值分析\n",
    "      2.1 基本概念\n",
    "      2.2 中心位置（均值、中位数、众数）\n",
    "      2.3 发散程度（极差，方差、标准差、变异系数）\n",
    "      2.4 偏差程度（z-分数）\n",
    "      2.5 相关程度（协方差，相关系数）\n",
    "      2.6 回顾\n",
    "    3 使用Matplotlib进行图分析\n",
    "      3.1 基本概念\n",
    "      3.2 频数分析\n",
    "        3.2.1 定性分析（柱状图、饼形图）\n",
    "        3.2.2 定量分析（直方图、累积曲线）\n",
    "      3.3 关系分析（散点图）\n",
    "      3.4 探索分析（箱形图）\n",
    "      3.5 回顾\n",
    "    4 总结\n",
    "    5 参考资料"
   ]
  },
  {
   "cell_type": "markdown",
   "metadata": {},
   "source": [
    "## 1 描述性统计是什么？\n",
    "    描述性统计是借助图表或者总结性的数值来描述数据的统计手段。数据挖掘工作的数据分析阶段，我们可借助描述性统计来描绘或总结数据的基本情况，一来可以梳理自己的思维，二来可以更好地向他人展示数据分析结果。数值分析的过程中，我们往往要计算出数据的统计特征，用来做科学计算的NumPy和SciPy工具可以满足我们的需求。Matpotlob工具可用来绘制图，满足图分析的需求。"
   ]
  },
  {
   "cell_type": "markdown",
   "metadata": {},
   "source": [
    "## 2 使用NumPy和SciPy进行数值分析\n",
    "### 2.1 基本概念\n",
    "    与Python中原生的List类型不同，Numpy中用ndarray类型来描述一组数据："
   ]
  },
  {
   "cell_type": "code",
   "execution_count": 1,
   "metadata": {
    "collapsed": false
   },
   "outputs": [
    {
     "name": "stdout",
     "output_type": "stream",
     "text": [
      "[1, 2, 3]\n"
     ]
    }
   ],
   "source": [
    "import numpy as np\n",
    "from numpy import array\n",
    "from numpy.random import normal, randint\n",
    "\n",
    "#使用List来创造一组数据\n",
    "data = [1, 2, 3]\n",
    "print(data)"
   ]
  },
  {
   "cell_type": "code",
   "execution_count": 2,
   "metadata": {
    "collapsed": false
   },
   "outputs": [
    {
     "name": "stdout",
     "output_type": "stream",
     "text": [
      "[1 2 3]\n"
     ]
    }
   ],
   "source": [
    "#使用ndarray来创造一组数据\n",
    "data = array([1, 2, 3])\n",
    "print(data)"
   ]
  },
  {
   "cell_type": "code",
   "execution_count": 3,
   "metadata": {
    "collapsed": false
   },
   "outputs": [
    {
     "name": "stdout",
     "output_type": "stream",
     "text": [
      "[  2.24383637   1.86766317  -2.06715631   5.41825564   0.765509\n",
      "   6.90756139  25.13586105  -2.10378382  -7.57914129   7.91958738]\n"
     ]
    }
   ],
   "source": [
    "#创造一组服从正态分布的定量数据\n",
    "data = normal(0, 10, size=10)\n",
    "print(data)"
   ]
  },
  {
   "cell_type": "code",
   "execution_count": 4,
   "metadata": {
    "collapsed": false
   },
   "outputs": [
    {
     "name": "stdout",
     "output_type": "stream",
     "text": [
      "[7 7 1 1 8 8 7 0 0 5]\n"
     ]
    }
   ],
   "source": [
    "#创造一组服从均匀分布的定性数据\n",
    "data = randint(0, 10, size=10)\n",
    "print(data)"
   ]
  },
  {
   "cell_type": "markdown",
   "metadata": {},
   "source": [
    "### 2.2 中心位置（均值、中位数、众数）\n",
    "      数据的中心位置是我们最容易想到的数据特征。借由中心位置，我们可以知道数据的一个平均情况，如果要对新数据进行预测，那么平均情况是非常直观地选择。数据的中心位置可分为均值（Mean），中位数（Median），众数（Mode）。其中均值和中位数用于定量的数据，众数用于定性的数据。\n",
    "      \n",
    "      对于定量数据（Data）来说，均值是总和除以总量（N），中位数是数值大小位于中间（奇偶总量处理不同）的值：\n",
    "      \n",
    "      均值相对中位数来说，包含的信息量更大，但是容易受异常的影响。使用NumPy计算均值与中位数："
   ]
  },
  {
   "cell_type": "code",
   "execution_count": 5,
   "metadata": {
    "collapsed": false
   },
   "outputs": [
    {
     "data": {
      "text/plain": [
       "4.4000000000000004"
      ]
     },
     "execution_count": 5,
     "metadata": {},
     "output_type": "execute_result"
    }
   ],
   "source": [
    "from numpy import mean, median\n",
    "\n",
    "#计算均值\n",
    "mean(data)"
   ]
  },
  {
   "cell_type": "code",
   "execution_count": 6,
   "metadata": {
    "collapsed": false
   },
   "outputs": [
    {
     "data": {
      "text/plain": [
       "6.0"
      ]
     },
     "execution_count": 6,
     "metadata": {},
     "output_type": "execute_result"
    }
   ],
   "source": [
    "#计算中位数\n",
    "median(data)"
   ]
  },
  {
   "cell_type": "markdown",
   "metadata": {},
   "source": [
    "    对于定性数据来说，众数是出现次数最多的值，使用SciPy计算众数："
   ]
  },
  {
   "cell_type": "code",
   "execution_count": 7,
   "metadata": {
    "collapsed": false
   },
   "outputs": [
    {
     "data": {
      "text/plain": [
       "ModeResult(mode=array([7]), count=array([3]))"
      ]
     },
     "execution_count": 7,
     "metadata": {},
     "output_type": "execute_result"
    }
   ],
   "source": [
    "from scipy.stats import mode\n",
    "\n",
    "# 计算众数\n",
    "mode(data)"
   ]
  },
  {
   "cell_type": "markdown",
   "metadata": {},
   "source": [
    "### 2.3 发散程度（极差、方差、标准差、变异系数）\n",
    "    对数据的中心位置有所了解以后，一般我们会想要知道数据以中心位置为标准有多发散。如果以中心位置来预测新数据，那么发散程度决定了预测的准确性。数据的发散程度可用极差（PTP）、方差（Variance）、标准差（STD）、变异系数（CV）来衡量，它们的计算方法如下：\n",
    "    \n",
    "    极差是只考虑了最大值和最小值的发散程度指标，相对来说，方差包含了更多的信息，标准差基于方差但是与原始数据同量级，变异系数基于标准差但是进行了无量纲处理。使用NumPy计算极差、方差、标准差和变异系数："
   ]
  },
  {
   "cell_type": "code",
   "execution_count": 8,
   "metadata": {
    "collapsed": false
   },
   "outputs": [
    {
     "data": {
      "text/plain": [
       "8"
      ]
     },
     "execution_count": 8,
     "metadata": {},
     "output_type": "execute_result"
    }
   ],
   "source": [
    "# 极差ptp = max(data) - min(data)\n",
    "np.ptp(data)"
   ]
  },
  {
   "cell_type": "code",
   "execution_count": 9,
   "metadata": {
    "collapsed": false
   },
   "outputs": [
    {
     "data": {
      "text/plain": [
       "10.84"
      ]
     },
     "execution_count": 9,
     "metadata": {},
     "output_type": "execute_result"
    }
   ],
   "source": [
    "# 方差var = sum((data[i] - mean)^2) / N   i=1,2,3...N\n",
    "np.var(data)"
   ]
  },
  {
   "cell_type": "code",
   "execution_count": 10,
   "metadata": {
    "collapsed": false
   },
   "outputs": [
    {
     "data": {
      "text/plain": [
       "3.2924155266308657"
      ]
     },
     "execution_count": 10,
     "metadata": {},
     "output_type": "execute_result"
    }
   ],
   "source": [
    "# 标准差std = var ^ 0.5\n",
    "np.std(data)"
   ]
  },
  {
   "cell_type": "code",
   "execution_count": 11,
   "metadata": {
    "collapsed": false
   },
   "outputs": [
    {
     "name": "stdout",
     "output_type": "stream",
     "text": [
      "0.748276256052\n"
     ]
    }
   ],
   "source": [
    "# 变异系数cv = std / mean\n",
    "cv = np.std(data) / np.mean(data)\n",
    "print(cv)"
   ]
  },
  {
   "cell_type": "markdown",
   "metadata": {},
   "source": [
    "### 2.4 偏差程度（z-分数）\n",
    "    之前提到均值容易受异常值影响，那么如何衡量偏差，偏差到多少算异常是两个必须要解决的问题。定义z-分数（Z-Score）为测量值距均值相差的标准差数目：\n",
    "    z-score = (data[i] - mean) / std\n",
    "    通常来说，z-分数的绝对值大于3将视为异常。\n",
    "    \n",
    "    当标准差不为0且不为较接近于0的数时，z-分数是有意义的，使用NumPy计算z-分数："
   ]
  },
  {
   "cell_type": "code",
   "execution_count": 12,
   "metadata": {
    "collapsed": false
   },
   "outputs": [
    {
     "name": "stdout",
     "output_type": "stream",
     "text": [
      "0.789693761\n"
     ]
    }
   ],
   "source": [
    "# 计算第一个值的z分数\n",
    "z_score = (data[1] - np.mean(data)) / np.std(data)\n",
    "print(z_score)"
   ]
  },
  {
   "cell_type": "markdown",
   "metadata": {},
   "source": [
    "### 2.5 相关程度\n",
    "    有两组数据时，我们关心这两组数据是否相关，相关程度有多少。用协方差（COV）和相关系数（CORRCOEF）来衡量相关程度：\n",
    "    cov = sum((data1[i] - mean1) * (data2[i] - mean2)) / N\n",
    "    corrcoef = cov / std1 * std2\n",
    "    \n",
    "    协方差的绝对值越大表示相关程度越大，协方差为正值表示正相关，负值为负相关，0为不相关。相关系数是基于协方差但进行了无量纲处理。使用NumPy计算协方差和相关系数："
   ]
  },
  {
   "cell_type": "code",
   "execution_count": 13,
   "metadata": {
    "collapsed": false
   },
   "outputs": [
    {
     "data": {
      "text/plain": [
       "array([[ 11.55555556,   8.        ],\n",
       "       [  8.        ,   6.        ]])"
      ]
     },
     "execution_count": 13,
     "metadata": {},
     "output_type": "execute_result"
    }
   ],
   "source": [
    "data1 = [1, 3, 9]\n",
    "data2 = [2, 5, 8]\n",
    "data = np.array([data1, data2])\n",
    "\n",
    "#计算两组数的协方差\n",
    "#参数bias=1表示结果需要除以N，否则只计算了分子部分\n",
    "#返回结果为矩阵，第i行第j列的数据表示第i组数与第j组数的协方差。对角线为方差\n",
    "np.cov(data, bias=1)"
   ]
  },
  {
   "cell_type": "code",
   "execution_count": 14,
   "metadata": {
    "collapsed": false
   },
   "outputs": [
    {
     "data": {
      "text/plain": [
       "array([[ 1.        ,  0.96076892],\n",
       "       [ 0.96076892,  1.        ]])"
      ]
     },
     "execution_count": 14,
     "metadata": {},
     "output_type": "execute_result"
    }
   ],
   "source": [
    "#计算两组数的相关系数\n",
    "#返回结果为矩阵，第i行第j列的数据表示第i组数与第j组数的相关系数。对角线为1\n",
    "np.corrcoef(data)"
   ]
  },
  {
   "cell_type": "markdown",
   "metadata": {},
   "source": [
    "### 2.6 回顾\n",
    "    包\t方法\t说明\n",
    "    numpy\tarray\t创造一组数\n",
    "    numpy.random\tnormal\t创造一组服从正态分布的定量数\n",
    "    numpy.random\trandint\t创造一组服从均匀分布的定性数\n",
    "    numpy\tmean\t计算均值\n",
    "    numpy\tmedian\t计算中位数\n",
    "    scipy.stats\tmode\t计算众数\n",
    "    numpy\tptp\t计算极差\n",
    "    numpy\tvar\t计算方差\n",
    "    numpy\tstd\t计算标准差\n",
    "    numpy\tcov\t计算协方差\n",
    "    numpy\tcorrcoef\t计算相关系数"
   ]
  },
  {
   "cell_type": "markdown",
   "metadata": {},
   "source": [
    "## 3 使用Matplotlib进行图分析\n",
    "### 3.1 基本概念\n",
    "    使用图分析可以更加直观地展示数据的分布（频数分析）和关系（关系分析）。柱状图和饼形图是对定性数据进行频数分析的常用工具，使用前需将每一类的频数计算出来。直方图和累积曲线是对定量数据进行频数分析的常用工具，直方图对应密度函数而累积曲线对应分布函数。散点图可用来对两组数据的关系进行描述。在没有分析目标时，需要对数据进行探索性的分析，箱形图将帮助我们完成这一任务。\n",
    "    \n",
    "    在此，我们使用一组容量为10000的男学生身高，体重，成绩数据来讲解如何使用Matplotlib绘制以上图形，创建数据的代码如下："
   ]
  },
  {
   "cell_type": "code",
   "execution_count": 15,
   "metadata": {
    "collapsed": false
   },
   "outputs": [
    {
     "name": "stdout",
     "output_type": "stream",
     "text": [
      "[ 182.57286619  177.13861489  174.98038307 ...,  174.62783531  174.48505248\n",
      "  174.28198272]\n",
      "[ 73.17335888  68.86656126  66.91940031 ...,  67.79098767  67.48591072\n",
      "  65.35477401]\n",
      "['B' 'E' 'C' ..., 'C' 'D' 'B']\n"
     ]
    }
   ],
   "source": [
    "def gen_data():\n",
    "    heights = []\n",
    "    weights = []\n",
    "    grades = []\n",
    "    N = 10000\n",
    "    \n",
    "    for i in range(N):\n",
    "        while True:\n",
    "            # 身高用人均值172，标准差为6的正态分布\n",
    "            height = np.random.normal(172, 6)\n",
    "            if 0 < height:\n",
    "                break\n",
    "                \n",
    "        while True:\n",
    "            # 体重由身高作为自变量的线性回归模型产生，误差服从标准正态分布\n",
    "            weight = (height - 80) * 0.7 + np.random.normal(0, 1)\n",
    "            if 0 < weight:\n",
    "                break\n",
    "        \n",
    "        while True:\n",
    "            # 分数服从均值为70，标标准差为15的正态分布\n",
    "            score = np.random.normal(70, 15)\n",
    "            if 0 < score and score <= 100:\n",
    "                grade = 'E' if score < 60\\\n",
    "                else ('D' if score < 70\\\n",
    "                      else ('C' if score < 80\\\n",
    "                           else ('B' if score < 90\\\n",
    "                                else 'A')))\n",
    "                break\n",
    "                \n",
    "        heights.append(height)\n",
    "        weights.append(weight)\n",
    "        grades.append(grade)\n",
    "    return np.array(heights), np.array(weights), np.array(grades)\n",
    "\n",
    "heights, weights, grades = gen_data()\n",
    "print(heights)\n",
    "print(weights)\n",
    "print(grades)"
   ]
  },
  {
   "cell_type": "markdown",
   "metadata": {},
   "source": [
    "### 3.2 频数分析\n",
    "#### 3.2.1 定性分析（柱状图、饼形图）\n",
    "    柱状图是以柱的高度来指代某种类型的频数，使用Matplotlib对成绩这一定性变量绘制柱状图的代码如下："
   ]
  },
  {
   "cell_type": "code",
   "execution_count": 16,
   "metadata": {
    "collapsed": false
   },
   "outputs": [
    {
     "data": {
      "image/png": "[encoded data removed]",
      "text/plain": [
       "<matplotlib.figure.Figure at 0x7db7c88>"
      ]
     },
     "metadata": {},
     "output_type": "display_data"
    }
   ],
   "source": [
    "import matplotlib.pyplot as plt\n",
    "\n",
    "# 绘制柱状图\n",
    "def draw_bar(grades):\n",
    "    xticks = ['A', 'B', 'C', 'D', 'E']\n",
    "    grade_group = {}\n",
    "    # 对每一类成绩进行频数统计\n",
    "    for grade in grades:\n",
    "        grade_group[grade] = grade_group.get(grade, 0) + 1\n",
    "        \n",
    "    # 创建柱状图\n",
    "    # 第一个参数为柱的横坐标\n",
    "    # 第二个参数为文字说明内容\n",
    "    plt.bar(range(5), [grade_group.get(xtick, 0) for xtick in xticks],\\\n",
    "            align='center')\n",
    "    \n",
    "    # 设置柱的文字说明\n",
    "    # 第一个参数为文字说明的横坐标\n",
    "    # 第二个参数为文字说明的内容\n",
    "    plt.xticks(range(5), xticks)\n",
    "    \n",
    "    # 设置横坐标的文字说明\n",
    "    plt.xlabel('Grade')\n",
    "    # 设置纵坐标的文字说明\n",
    "    plt.ylabel('Frequency')\n",
    "    # 设置标题\n",
    "    plt.title('Grade Of Male Students')\n",
    "    # 绘图\n",
    "    plt.show()\n",
    "    \n",
    "    \n",
    "draw_bar(grades)"
   ]
  },
  {
   "cell_type": "markdown",
   "metadata": {},
   "source": [
    "    而饼形图是以扇形的面积来指代某种类型的频率，使用Matplotlib对成绩这一定性变量绘制饼形图的代码如下："
   ]
  },
  {
   "cell_type": "code",
   "execution_count": 17,
   "metadata": {
    "collapsed": false
   },
   "outputs": [
    {
     "data": {
      "image/png": "[encoded data removed]",
      "text/plain": [
       "<matplotlib.figure.Figure at 0x7db7898>"
      ]
     },
     "metadata": {},
     "output_type": "display_data"
    }
   ],
   "source": [
    "# 绘制饼形图\n",
    "def draw_pie(grades):\n",
    "    labels = ['A', 'B', 'C', 'D', 'E']\n",
    "    grade_group = {}\n",
    "    for grade in grades:\n",
    "        grade_group[grade] = grade_group.get(grade, 0) + 1\n",
    "    \n",
    "    # 创建饼图\n",
    "    # 第一个参数为扇形的面积\n",
    "    # labels参数为扇形的说明文字 \n",
    "    # autopct参数为扇形占比的显示格式\n",
    "    plt.pie([grade_group.get(label, 0) for label in labels], \\\n",
    "            labels=labels, autopct='%1.1f%%')\n",
    "    plt.title('Grade Of Male Students')\n",
    "    plt.show()\n",
    "    \n",
    "draw_pie(grades)"
   ]
  },
  {
   "cell_type": "markdown",
   "metadata": {},
   "source": [
    "#### 3.2.2 定量分析（直方图、累积曲线）\n",
    "    直方图类似于柱状图，是用柱的高度来指代频数，不同的是其将定量数据划分为若干连续的区间，在这些连续的区间上绘制柱。使用Matplotlib对身高这一定量变量绘制直方图的代码如下："
   ]
  },
  {
   "cell_type": "code",
   "execution_count": 18,
   "metadata": {
    "collapsed": false
   },
   "outputs": [
    {
     "data": {
      "image/png": "[encoded data removed]",
      "text/plain": [
       "<matplotlib.figure.Figure at 0x7db7400>"
      ]
     },
     "metadata": {},
     "output_type": "display_data"
    }
   ],
   "source": [
    "# 绘制直方图\n",
    "def draw_hist(heights):\n",
    "    # 第一个参数为待绘制的定量数据，不同于定性数据，这里并没有事先进行频数统计\n",
    "    # 第二个参数为划分的区间个数\n",
    "    plt.hist(heights, 100)\n",
    "    plt.xlabel('Heights')\n",
    "    plt.ylabel('Frequency')\n",
    "    plt.title('Heights Of Male Students')\n",
    "    plt.show()\n",
    "    \n",
    "draw_hist(heights)"
   ]
  },
  {
   "cell_type": "markdown",
   "metadata": {},
   "source": [
    "    直方图对应数据的密度函数，由于身高变量是属于服从正态分布的，从绘制出来的直方图上也可以直观地看出来"
   ]
  },
  {
   "cell_type": "markdown",
   "metadata": {},
   "source": [
    "    使用Matplotlib对身高这一定量变量绘制累积曲线的代码如下："
   ]
  },
  {
   "cell_type": "code",
   "execution_count": 19,
   "metadata": {
    "collapsed": false,
    "scrolled": true
   },
   "outputs": [
    {
     "data": {
      "image/png": "[encoded data removed]",
      "text/plain": [
       "<matplotlib.figure.Figure at 0x9117828>"
      ]
     },
     "metadata": {},
     "output_type": "display_data"
    }
   ],
   "source": [
    "# 创建累积曲线\n",
    "def draw_cumulative_hist(heights):\n",
    "    # 创建累积曲线\n",
    "    # 第一个参数为待绘制的定量数据\n",
    "    # 第二个参数为划分的区间个数\n",
    "    # normed参数为是否无量纲划\n",
    "    # histtype参数为'step'，绘制阶梯状的曲线\n",
    "    # cumulative参数为是否累积\n",
    "    plt.hist(heights, 20, normed=True, histtype='step', cumulative=True)\n",
    "    plt.xlabel('Heights')\n",
    "    plt.ylabel('Frequency')\n",
    "    plt.title('Heights Of Male Students')\n",
    "    plt.show()\n",
    "    \n",
    "draw_cumulative_hist(heights)"
   ]
  },
  {
   "cell_type": "markdown",
   "metadata": {},
   "source": [
    "    累积曲线对应数据的分布函数，由于身高变量是属于服从正态分布的，从绘制出来的累积曲线图上也可以直观地看出来："
   ]
  },
  {
   "cell_type": "markdown",
   "metadata": {},
   "source": [
    "### 3.3 关系分析（散点图）\n",
    "    在散点图中，分别以自变量和因变量作为横纵坐标。当自变量与因变量线性相关时，在散点图中，点近似分布在一条直线上。我们以身高作为自变量，体重作为因变量，讨论身高对体重的影响。使用Matplotlib绘制散点图的代码如下："
   ]
  },
  {
   "cell_type": "code",
   "execution_count": 20,
   "metadata": {
    "collapsed": false
   },
   "outputs": [
    {
     "data": {
      "image/png": "[encoded data removed]",
      "text/plain": [
       "<matplotlib.figure.Figure at 0x91b5898>"
      ]
     },
     "metadata": {},
     "output_type": "display_data"
    }
   ],
   "source": [
    "# 绘制散点图\n",
    "def draw_scatter(heights, weights):\n",
    "    # 第一个参数为点的横坐标\n",
    "    # 第二个参数为点的纵坐标\n",
    "    plt.scatter(heights, weights)\n",
    "    plt.xlabel('Heights')\n",
    "    plt.ylabel('Weights')\n",
    "    plt.title('Heights & Weights Of Male Students')\n",
    "    plt.show()\n",
    "    \n",
    "draw_scatter(heights, weights)"
   ]
  },
  {
   "cell_type": "markdown",
   "metadata": {},
   "source": [
    "    我们在创建数据时，体重这一变量的确是由身高变量通过线性回归产生，绘制出来的散点图"
   ]
  },
  {
   "cell_type": "markdown",
   "metadata": {},
   "source": [
    "### 3.4 探索分析（箱形图）\n",
    "    在不明确数据分析的目标时，我们对数据进行一些探索性的分析，通过我们可以知道数据的中心位置，发散程度以及偏差程度。使用Matplotlib绘制关于身高的箱形图的代码如下："
   ]
  },
  {
   "cell_type": "code",
   "execution_count": 22,
   "metadata": {
    "collapsed": false
   },
   "outputs": [
    {
     "data": {
      "image/png": "[encoded data removed]",
      "text/plain": [
       "<matplotlib.figure.Figure at 0x91d62b0>"
      ]
     },
     "metadata": {},
     "output_type": "display_data"
    }
   ],
   "source": [
    "# 绘制箱形图\n",
    "def draw_box(heights):\n",
    "    # 第一个参数为待绘制的定量数据\n",
    "    # 第二个参数为数据的文字说明\n",
    "    plt.boxplot([heights], labels=['Heights'])\n",
    "    plt.title('Heights Of Male Students')\n",
    "    plt.show()\n",
    "    \n",
    "draw_box(heights)"
   ]
  },
  {
   "cell_type": "markdown",
   "metadata": {},
   "source": [
    "    绘制出来的箱形图中，包含3种信息：\n",
    "\n",
    "    Q2所指的红线为中位数\n",
    "    Q1所指的蓝框下侧为下四分位数，Q3所指的蓝框上侧为上四分位数，Q3-Q1为四分为差。四分位差也是衡量数据的发散程度的指标之一。\n",
    "    上界线和下界线是距离中位数1.5倍四分位差的线，高于上界线或者低于下界线的数据为异常值。"
   ]
  },
  {
   "cell_type": "markdown",
   "metadata": {},
   "source": [
    "### 3.5 回顾\n",
    "    方法\t说明\n",
    "    bar\t柱状图\n",
    "    pie\t饼形图\n",
    "    hist\t直方图&累积曲线\n",
    "    scatter\t散点图\n",
    "    boxplot\t箱形图\n",
    "    xticks\t设置柱的文字说明\n",
    "    xlabel\t横坐标的文字说明\n",
    "    ylabel\t纵坐标的文字说明\n",
    "    title\t标题\n",
    "    show\t绘图"
   ]
  },
  {
   "cell_type": "markdown",
   "metadata": {},
   "source": [
    "## 4 总结\n",
    "    描述性统计是容易操作，直观简洁的数据分析手段。但是由于简单，对多元变量的关系难以描述。现实生活中，自变量通常是多元的：决定体重不仅有身高，还有饮食习惯，肥胖基因等等因素。通过一些高级的数据处理手段，我们可以对多元变量进行处理，例如特征工程中，可以使用互信息方法来选择多个对因变量有较强相关性的自变量作为特征，还可以使用主成分分析法来消除一些冗余的自变量来降低运算复杂度。"
   ]
  }
 ],
 "metadata": {
  "kernelspec": {
   "display_name": "Python 3",
   "language": "python",
   "name": "python3"
  },
  "language_info": {
   "codemirror_mode": {
    "name": "ipython",
    "version": 3
   },
   "file_extension": ".py",
   "mimetype": "text/x-python",
   "name": "python",
   "nbconvert_exporter": "python",
   "pygments_lexer": "ipython3",
   "version": "3.6.0"
  }
 },
 "nbformat": 4,
 "nbformat_minor": 2
}
