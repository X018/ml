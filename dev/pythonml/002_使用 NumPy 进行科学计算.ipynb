{
 "cells": [
  {
   "cell_type": "markdown",
   "metadata": {},
   "source": [
    "# 使用 NumPy 进行科学计算\n",
    "https://my.oschina.net/babeler/blog/352125"
   ]
  },
  {
   "cell_type": "markdown",
   "metadata": {},
   "source": [
    "    Python 科学计算库 NumPy，其中大部分模块采用 C 语言编写，并针对科学计算（线性代数计算）设计了 ndarray（多维数组）对象，该对象类似于 Python 中的 list 对象，但却更少在应用中使用性能较差的循环。以上这些使得 NumPy 的性能比纯 Python 要高。\n",
    "\n",
    "    本文采用的系统环境是 CentOS 7.0 x64，Python 2.7.5 和 NumPy 1.9.1。假设已经执行了“import numpy as np”语句，因而在代码中使用 np 指代 numpy 库。"
   ]
  },
  {
   "cell_type": "markdown",
   "metadata": {},
   "source": [
    "## ndarray（多维数组）\n",
    "    ndarray 对象用于存储多维数组，内置支持 element-by-element 计算，无需像 Python 中 List 对象数学计算那样使用大量的循环，因而更加的高效。一个 ndarray 对象中的所有元素必须是相同的数据类型。一般使用 np.array、np.arange、np.zeros、np.ones 和 np.identity 等函数创建 ndarray 对象。"
   ]
  },
  {
   "cell_type": "code",
   "execution_count": 7,
   "metadata": {
    "collapsed": false
   },
   "outputs": [
    {
     "name": "stdout",
     "output_type": "stream",
     "text": [
      "a: [0 1 2 3 4]\n",
      "b:  [0 1 2 3 4 5 6 7 8 9]\n",
      "c: [ 0.  0.  0.  0.  0.  0.]\n",
      "d: [ 1.  1.  1.  1.  1.  1.  1.  1.]\n",
      "e: [[ 1.  0.  0.]\n",
      " [ 0.  1.  0.]\n",
      " [ 0.  0.  1.]]\n"
     ]
    }
   ],
   "source": [
    "import numpy as np\n",
    "\n",
    "a = np.array([0, 1, 2, 3, 4])\n",
    "print('a:', a)\n",
    "\n",
    "b = np.arange(10)\n",
    "print('b: ', b)\n",
    "\n",
    "c = np.zeros(6)\n",
    "print('c:', c)\n",
    "\n",
    "d = np.ones(8)\n",
    "print('d:', d)\n",
    "\n",
    "e = np.identity(3)\n",
    "print('e:', e)"
   ]
  },
  {
   "cell_type": "code",
   "execution_count": null,
   "metadata": {
    "collapsed": true
   },
   "outputs": [],
   "source": []
  }
 ],
 "metadata": {
  "kernelspec": {
   "display_name": "Python 3",
   "language": "python",
   "name": "python3"
  },
  "language_info": {
   "codemirror_mode": {
    "name": "ipython",
    "version": 3
   },
   "file_extension": ".py",
   "mimetype": "text/x-python",
   "name": "python",
   "nbconvert_exporter": "python",
   "pygments_lexer": "ipython3",
   "version": "3.6.0"
  }
 },
 "nbformat": 4,
 "nbformat_minor": 2
}
