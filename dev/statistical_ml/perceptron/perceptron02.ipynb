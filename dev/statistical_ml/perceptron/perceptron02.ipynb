{
 "cells": [
  {
   "cell_type": "code",
   "execution_count": 42,
   "metadata": {
    "collapsed": true
   },
   "outputs": [],
   "source": [
    "# http://blog.csdn.net/v_victor/article/details/50471194"
   ]
  },
  {
   "cell_type": "code",
   "execution_count": 43,
   "metadata": {
    "collapsed": true
   },
   "outputs": [],
   "source": [
    "import numpy as np\n",
    "import matplotlib.pyplot as plt\n",
    "\n",
    "class pictureshow:\n",
    "    def __init__(self, data, w, b):\n",
    "        self.b = b\n",
    "        self.w = w\n",
    "        self.data = data\n",
    "        \n",
    "        plt.figure(1)\n",
    "        plt.title('Plot 1', size=14)\n",
    "        plt.xlabel('x-axis', size=14)\n",
    "        plt.ylabel('y-axis', size=14)\n",
    "        \n",
    "        x_data = np.linspace(0, 5, 100)\n",
    "        y_data = self.expression(x_data)\n",
    "        plt.plot(x_data, y_data, color='r', label='y1 data')\n",
    "        \n",
    "        plt.scatter(data[0][0], data[0][1], s=50)\n",
    "        plt.scatter(data[1][0], data[1][1], s=50)\n",
    "        plt.scatter(data[2][0], data[2][1], s=50, marker='x')\n",
    "        plt.savefig('2d.png', dpi=75)\n",
    "        \n",
    "    def expression(self, x):\n",
    "        y = (-self.b - self.w[0] * x) / self.w[1]\n",
    "#         self.w[1] * y = -(self.w[0] * x + self.b)\n",
    "        return y\n",
    "        \n",
    "    def show(self):\n",
    "        plt.show()"
   ]
  },
  {
   "cell_type": "code",
   "execution_count": 44,
   "metadata": {
    "collapsed": true
   },
   "outputs": [],
   "source": [
    "class perceptron:\n",
    "    def __init__(self, x, y, a=1):\n",
    "        self.x = x\n",
    "        self.y = y        \n",
    "        self.a = a\n",
    "        self.b = 0\n",
    "        self.w = np.zeros((x.shape[1], 1))\n",
    "\n",
    "    def sign(self, w, b, x):\n",
    "        resutl = 0\n",
    "        y = np.dot(x, w) + b\n",
    "        return int(y)\n",
    "        \n",
    "    def train(self):\n",
    "        flag = True\n",
    "        length = len(self.x)\n",
    "        while flag:\n",
    "            count = 0\n",
    "            for i in range(length):\n",
    "                tmp_y = self.sign(self.w, self.b, self.x[i,:])\n",
    "                if tmp_y * self.y[i] <= 0:\n",
    "                    tmp = self.y[i] * self.a * self.x[i,:]\n",
    "                    tmp = tmp.reshape(self.w.shape)\n",
    "                    self.w = tmp + self.w\n",
    "                    self.b = self.b + self.y[i]\n",
    "                    count += 1\n",
    "            if count == 0:\n",
    "                flag = False\n",
    "        return self.w, self.b"
   ]
  },
  {
   "cell_type": "code",
   "execution_count": 45,
   "metadata": {
    "collapsed": false
   },
   "outputs": [
    {
     "data": {
      "image/png": "[encoded data removed]",
      "text/plain": [
       "<matplotlib.figure.Figure at 0x81f8a20>"
      ]
     },
     "metadata": {},
     "output_type": "display_data"
    }
   ],
   "source": [
    "#原始数据  \n",
    "data = [[3,3],[4,3],[1,1]]  \n",
    "xArray = np.array([3,3,4,3,1,1])  \n",
    "xArray = xArray.reshape((3,2))  \n",
    "yArray = np.array([1,1,-1])  \n",
    "#感知机计算权值  \n",
    "myPerceptron = perceptron(x=xArray,y=yArray)  \n",
    "weight,bias = myPerceptron.train()  \n",
    "#画图  \n",
    "picture = pictureshow(data,w=weight,b=bias)  \n",
    "picture.show()  "
   ]
  }
 ],
 "metadata": {
  "kernelspec": {
   "display_name": "Python 3",
   "language": "python",
   "name": "python3"
  },
  "language_info": {
   "codemirror_mode": {
    "name": "ipython",
    "version": 3
   },
   "file_extension": ".py",
   "mimetype": "text/x-python",
   "name": "python",
   "nbconvert_exporter": "python",
   "pygments_lexer": "ipython3",
   "version": "3.6.0"
  }
 },
 "nbformat": 4,
 "nbformat_minor": 2
}
