{
 "cells": [
  {
   "cell_type": "markdown",
   "metadata": {},
   "source": [
    "# TensorFlow学习笔记（1）：线性回归\n",
    "https://segmentfault.com/a/1190000007966370"
   ]
  },
  {
   "cell_type": "markdown",
   "metadata": {},
   "source": [
    "## 前言\n",
    "本文使用tensorflow训练线性回归模型，并将其与scikit-learn做比较。数据集来自Andrew Ng的网上公开课程[Deep Learning](http://openclassroom.stanford.edu/MainFolder/DocumentPage.php?course=DeepLearning&doc=exercises/ex2/ex2.html)\n",
    "\n",
    "## 代码"
   ]
  },
  {
   "cell_type": "code",
   "execution_count": 1,
   "metadata": {},
   "outputs": [
    {
     "name": "stdout",
     "output_type": "stream",
     "text": [
      "Coeficient of sklearn linear regression: k=0.063881, b=0.750163\n",
      "Coeficient of tensorflow linear regression: k=0.633821, b=0.171544\n",
      "Coeficient of tensorflow linear regression: k=0.133563, b=0.434749\n",
      "Coeficient of tensorflow linear regression: k=0.091980, b=0.597511\n",
      "Coeficient of tensorflow linear regression: k=0.077249, b=0.676734\n",
      "Coeficient of tensorflow linear regression: k=0.070305, b=0.714853\n",
      "Coeficient of tensorflow linear regression: k=0.066970, b=0.733184\n",
      "Coeficient of tensorflow linear regression: k=0.065367, b=0.741998\n",
      "Coeficient of tensorflow linear regression: k=0.064595, b=0.746237\n",
      "Coeficient of tensorflow linear regression: k=0.064225, b=0.748275\n",
      "Coeficient of tensorflow linear regression: k=0.064046, b=0.749255\n",
      "Coeficient of tensorflow linear regression: k=0.063961, b=0.749726\n",
      "Coeficient of tensorflow linear regression: k=0.063919, b=0.749953\n",
      "Coeficient of tensorflow linear regression: k=0.063900, b=0.750062\n",
      "Coeficient of tensorflow linear regression: k=0.063890, b=0.750114\n",
      "Coeficient of tensorflow linear regression: k=0.063885, b=0.750139\n"
     ]
    }
   ],
   "source": [
    "import numpy as np\n",
    "import tensorflow as tf\n",
    "\n",
    "from sklearn import linear_model\n",
    "\n",
    "# Read x and y\n",
    "x_data = np.loadtxt(\"input/ex2x.dat\")\n",
    "y_data = np.loadtxt(\"input/ex2y.dat\")\n",
    "\n",
    "# we use sklearn first to get a sense of coefficients\n",
    "reg = linear_model.LinearRegression()\n",
    "reg.fit(x_data.reshape(-1, 1), y_data)\n",
    "print(\"Coeficient of sklearn linear regression: k=%f, b=%f\"\n",
    "      % (reg.coef_, reg.intercept_))\n",
    "\n",
    "# Then we apply tensorflow to achieve the similar results\n",
    "# The structure of tensorflow code can be divided into two parts:\n",
    "# \n",
    "# First part: set up computation graph\n",
    "W = tf.Variable(tf.random_uniform([1], -1, 1))\n",
    "b = tf.Variable(tf.zeros([1]))\n",
    "y = W * x_data + b\n",
    "\n",
    "loss = tf.reduce_mean(tf.square(y - y_data)) / 2\n",
    "optimizer = tf.train.GradientDescentOptimizer(0.07)\n",
    "train = optimizer.minimize(loss)\n",
    "\n",
    "init = tf.global_variables_initializer()\n",
    "\n",
    "# Second part: launch the graph\n",
    "sess = tf.Session()\n",
    "sess.run(init)\n",
    "\n",
    "for step in range(1500):\n",
    "    sess.run(train)\n",
    "    \n",
    "    if step % 100 == 0:\n",
    "        print(\"Coeficient of tensorflow linear regression: k=%f, b=%f\"\n",
    "             % (sess.run(W), sess.run(b)))"
   ]
  },
  {
   "cell_type": "markdown",
   "metadata": {},
   "source": [
    "## 思考\n",
    "对于tensorflow，梯度下降的步长alpha参数需要很仔细的设置，步子太大容易扯到蛋导致无法收敛；步子太小容易等得蛋疼。迭代次数也需要细致的尝试。"
   ]
  }
 ],
 "metadata": {
  "kernelspec": {
   "display_name": "Python 3",
   "language": "python",
   "name": "python3"
  },
  "language_info": {
   "codemirror_mode": {
    "name": "ipython",
    "version": 3
   },
   "file_extension": ".py",
   "mimetype": "text/x-python",
   "name": "python",
   "nbconvert_exporter": "python",
   "pygments_lexer": "ipython3",
   "version": "3.6.1"
  }
 },
 "nbformat": 4,
 "nbformat_minor": 2
}
