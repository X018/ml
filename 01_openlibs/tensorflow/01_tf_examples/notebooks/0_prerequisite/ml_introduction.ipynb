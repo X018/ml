{
 "cells": [
  {
   "cell_type": "markdown",
   "metadata": {},
   "source": [
    "# 机器学习\n",
    "\n",
    "在例子开始之前，你最好先熟悉下机器学习，因为TF大部分时候被用于机器学习的任务（特别是神经网络）。你可以查看下面的链接列表，它们提供了本TF教程相关的机器学习的的基本知识。\n",
    "\n",
    "## 机器学习\n",
    "\n",
    "- [An Introduction to Machine Learning Theory and Its Applications: A Visual Tutorial with Examples](https://www.toptal.com/machine-learning/machine-learning-theory-an-introductory-primer)\n",
    "- [机器学习理论介绍及应用：示例教程]\n",
    "- [A Gentle Guide to Machine Learning](https://blog.monkeylearn.com/a-gentle-guide-to-machine-learning/)\n",
    "- [机器学习温和指南]\n",
    "- [A Visual Introduction to Machine Learning](http://www.r2d3.us/visual-intro-to-machine-learning-part-1/)\n",
    "- [机器学习示例简介]\n",
    "- [Introduction to Machine Learning](http://alex.smola.org/drafts/thebook.pdf)\n",
    "- [机器学习简介]\n",
    "\n",
    "## Deep Learning & Neural Networks\n",
    "## 深度学习 & 神经网络\n",
    "\n",
    "- [An Introduction to Neural Networks](http://www.cs.stir.ac.uk/~lss/NNIntro/InvSlides.html)\n",
    "- [神经网络简介]\n",
    "- [An Introduction to Image Recognition with Deep Learning](https://medium.com/@ageitgey/machine-learning-is-fun-part-3-deep-learning-and-convolutional-neural-networks-f40359318721)\n",
    "- [机器学习之图像识别简介]\n",
    "- [Neural Networks and Deep Learning](http://neuralnetworksanddeeplearning.com/index.html)\n",
    "- [神经网络和深度学习]"
   ]
  },
  {
   "cell_type": "code",
   "execution_count": null,
   "metadata": {
    "collapsed": true
   },
   "outputs": [],
   "source": []
  }
 ],
 "metadata": {
  "kernelspec": {
   "display_name": "Python 3",
   "language": "python",
   "name": "python3"
  },
  "language_info": {
   "codemirror_mode": {
    "name": "ipython",
    "version": 3
   },
   "file_extension": ".py",
   "mimetype": "text/x-python",
   "name": "python",
   "nbconvert_exporter": "python",
   "pygments_lexer": "ipython3",
   "version": "3.5.3"
  }
 },
 "nbformat": 4,
 "nbformat_minor": 1
}
