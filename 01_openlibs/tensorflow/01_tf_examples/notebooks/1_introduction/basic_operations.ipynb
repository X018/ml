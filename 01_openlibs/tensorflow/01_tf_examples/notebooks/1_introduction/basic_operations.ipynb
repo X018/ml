{
 "cells": [
  {
   "cell_type": "code",
   "execution_count": 1,
   "metadata": {
    "collapsed": true
   },
   "outputs": [],
   "source": [
    "# TF的op基础示例\n",
    "# "
   ]
  },
  {
   "cell_type": "code",
   "execution_count": 2,
   "metadata": {
    "collapsed": true
   },
   "outputs": [],
   "source": [
    "import tensorflow as tf"
   ]
  },
  {
   "cell_type": "code",
   "execution_count": 3,
   "metadata": {
    "collapsed": true
   },
   "outputs": [],
   "source": [
    "# constant op基础示例\n",
    "# 返回constant op的构造示例\n",
    "a = tf.constant(2)\n",
    "b = tf.constant(3)"
   ]
  },
  {
   "cell_type": "code",
   "execution_count": 4,
   "metadata": {
    "scrolled": true
   },
   "outputs": [
    {
     "name": "stdout",
     "output_type": "stream",
     "text": [
      "a=2 b=3\n",
      "常量和:5\n",
      "常量乘积：6\n"
     ]
    }
   ],
   "source": [
    "# 运行默认图\n",
    "with tf.Session() as sess:\n",
    "    print(\"a=%i\" %sess.run(a), \"b=%i\" %sess.run(b))\n",
    "    print(\"常量和:%i\" %sess.run(a + b))\n",
    "    print(\"常量乘积：%i\" %sess.run(a * b))"
   ]
  },
  {
   "cell_type": "code",
   "execution_count": 5,
   "metadata": {
    "collapsed": true
   },
   "outputs": [],
   "source": [
    "# variable op基础示例\n",
    "# 返回variable op的构造示例（运行session时定义）\n",
    "a = tf.placeholder(tf.int16)\n",
    "b = tf.placeholder(tf.int16)"
   ]
  },
  {
   "cell_type": "code",
   "execution_count": 6,
   "metadata": {
    "collapsed": true
   },
   "outputs": [],
   "source": [
    "# 定义op\n",
    "add = tf.add(a, b)\n",
    "mul = tf.multiply(a, b)"
   ]
  },
  {
   "cell_type": "code",
   "execution_count": 7,
   "metadata": {},
   "outputs": [
    {
     "name": "stdout",
     "output_type": "stream",
     "text": [
      "变量和：5\n",
      "变量乘积：6\n"
     ]
    }
   ],
   "source": [
    "# 运行默认图\n",
    "with tf.Session() as sess:\n",
    "    # 每次运行op时输入variable\n",
    "    print(\"变量和：%i\" %sess.run(add, feed_dict={a:2, b:3}))\n",
    "    print(\"变量乘积：%i\" %sess.run(mul, feed_dict={a:2, b:3}))"
   ]
  },
  {
   "cell_type": "code",
   "execution_count": 9,
   "metadata": {
    "collapsed": true
   },
   "outputs": [],
   "source": [
    "# ----------------\n",
    "# 更多：\n",
    "# TF矩阵乘法官方教程\n",
    "# \n",
    "# 创建一个1*2的constant op矩阵，把它加入到默认图的节点\n",
    "# \n",
    "# 返回constant op的樊笼示例\n",
    "matrix1 = tf.constant([[3, 3]])"
   ]
  },
  {
   "cell_type": "code",
   "execution_count": 10,
   "metadata": {
    "collapsed": true
   },
   "outputs": [],
   "source": [
    "# 创建另一个2*1的constant op矩阵\n",
    "matrix2 = tf.constant([[2], [2]])"
   ]
  },
  {
   "cell_type": "code",
   "execution_count": 11,
   "metadata": {
    "collapsed": true
   },
   "outputs": [],
   "source": [
    "# 对'matrix1'与'matrix2'做'matmul'矩阵乘法\n",
    "# 返回矩阵乘法的结果，赋值给product\n",
    "product = tf.matmul(matrix1, matrix2)"
   ]
  },
  {
   "cell_type": "code",
   "execution_count": 12,
   "metadata": {},
   "outputs": [
    {
     "name": "stdout",
     "output_type": "stream",
     "text": [
      "[[12]]\n"
     ]
    }
   ],
   "source": [
    "# 调用session的'run()'方法运行matmul op，传参matmul op的值'product'。\n",
    "# \n",
    "# op输出返回给'result'，它是numpy的'ndarray'对象\n",
    "with tf.Session() as sess:\n",
    "    result = sess.run(product)\n",
    "    print(result)"
   ]
  }
 ],
 "metadata": {
  "kernelspec": {
   "display_name": "Python 3",
   "language": "python",
   "name": "python3"
  },
  "language_info": {
   "codemirror_mode": {
    "name": "ipython",
    "version": 3
   },
   "file_extension": ".py",
   "mimetype": "text/x-python",
   "name": "python",
   "nbconvert_exporter": "python",
   "pygments_lexer": "ipython3",
   "version": "3.5.3"
  }
 },
 "nbformat": 4,
 "nbformat_minor": 2
}
