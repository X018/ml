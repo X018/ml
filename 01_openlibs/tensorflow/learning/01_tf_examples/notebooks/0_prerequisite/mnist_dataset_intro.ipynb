{
 "cells": [
  {
   "cell_type": "markdown",
   "metadata": {},
   "source": [
    "\n",
    "# MNIST数据集介绍\n",
    "\n",
    "大多数例子使用了手写数字的MNIST数据集。它包含了60000个训练数据和10000个测试数据。这些数字的尺寸已标准化，同时做了居中处理，所以每个数据可以表示成一个值为0到1大小为28 * 28矩阵。\n",
    "\n",
    "## 预览\n",
    "\n",
    "![MNIST 数字](http://neuralnetworksanddeeplearning.com/images/mnist_100_digits.png)\n",
    "\n",
    "## 用法\n",
    "在例子中，我们使用TF[input_data.py](https://github.com/tensorflow/tensorflow/blob/r0.7/tensorflow/examples/tutorials/mnist/input_data.py)脚本来加载数据集。这对管理数据相当好用，具体操作：\n",
    "\n",
    "- 数据集下载\n",
    "- 加载整个数据集成numpy数组\n",
    "\n",
    "\n"
   ]
  },
  {
   "cell_type": "code",
   "execution_count": 20,
   "metadata": {},
   "outputs": [
    {
     "name": "stdout",
     "output_type": "stream",
     "text": [
      "(55000, 784)\n",
      "(55000, 10)\n",
      "(10000, 784)\n",
      "(10000, 10)\n"
     ]
    }
   ],
   "source": [
    "# 导入MNIST\n",
    "from tensorflow.examples.tutorials.mnist import input_data\n",
    "\n",
    "# 加载数据\n",
    "X_train = mnist.train.images\n",
    "Y_train = mnist.train.labels\n",
    "X_test = mnist.test.images\n",
    "Y_test = mnist.test.labels\n",
    "\n",
    "print(X_train.shape)\n",
    "print(Y_train.shape)\n",
    "print(X_test.shape)\n",
    "print(Y_test.shape)"
   ]
  },
  {
   "cell_type": "markdown",
   "metadata": {},
   "source": [
    "- 通过'next_batch'方法遍历整个数据集，只返回需要的部分数据（为了节省内存，避免加载整个数据集）"
   ]
  },
  {
   "cell_type": "code",
   "execution_count": 16,
   "metadata": {},
   "outputs": [
    {
     "name": "stdout",
     "output_type": "stream",
     "text": [
      "(64, 784)\n",
      "(64, 10)\n"
     ]
    }
   ],
   "source": [
    "# 获取下一组64张图像数组与分类列表\n",
    "batch_X, batch_Y = mnist.train.next_batch(64)\n",
    "\n",
    "print(batch_X.shape)\n",
    "print(batch_Y.shape)"
   ]
  },
  {
   "cell_type": "markdown",
   "metadata": {},
   "source": [
    "链接：http://yann.lecun.com/exdb/mnist/"
   ]
  }
 ],
 "metadata": {
  "kernelspec": {
   "display_name": "Python 3",
   "language": "python",
   "name": "python3"
  },
  "language_info": {
   "codemirror_mode": {
    "name": "ipython",
    "version": 3
   },
   "file_extension": ".py",
   "mimetype": "text/x-python",
   "name": "python",
   "nbconvert_exporter": "python",
   "pygments_lexer": "ipython3",
   "version": "3.5.3"
  }
 },
 "nbformat": 4,
 "nbformat_minor": 1
}
