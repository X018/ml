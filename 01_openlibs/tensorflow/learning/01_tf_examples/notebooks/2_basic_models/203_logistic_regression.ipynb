{
 "cells": [
  {
   "cell_type": "code",
   "execution_count": 1,
   "metadata": {
    "collapsed": true
   },
   "outputs": [],
   "source": [
    "import tensorflow as tf"
   ]
  },
  {
   "cell_type": "code",
   "execution_count": 2,
   "metadata": {},
   "outputs": [
    {
     "name": "stdout",
     "output_type": "stream",
     "text": [
      "Extracting MNIST_data/train-images-idx3-ubyte.gz\n",
      "Extracting MNIST_data/train-labels-idx1-ubyte.gz\n",
      "Extracting MNIST_data/t10k-images-idx3-ubyte.gz\n",
      "Extracting MNIST_data/t10k-labels-idx1-ubyte.gz\n"
     ]
    }
   ],
   "source": [
    "from tensorflow.examples.tutorials.mnist import input_data\n",
    "mnist = input_data.read_data_sets(\"MNIST_data/\", one_hot=True)"
   ]
  },
  {
   "cell_type": "code",
   "execution_count": 3,
   "metadata": {
    "collapsed": true
   },
   "outputs": [],
   "source": [
    "learning_rate = 0.01\n",
    "training_epochs = 25\n",
    "batch_size = 100\n",
    "display_step =1\n",
    "\n",
    "x = tf.placeholder(tf.float32, [None, 784])\n",
    "y = tf.placeholder(tf.float32, [None, 10])\n",
    "\n",
    "W = tf.Variable(tf.zeros([784, 10]))\n",
    "b = tf.Variable(tf.zeros([10]))\n",
    "\n",
    "pred = tf.nn.softmax(tf.matmul(x, W) + b)\n",
    "\n",
    "cost = tf.reduce_mean(-tf.reduce_sum(y * tf.log(pred), reduction_indices=1))\n",
    "optimizer = tf.train.GradientDescentOptimizer(learning_rate).minimize(cost)\n",
    "\n",
    "init = tf.global_variables_initializer()"
   ]
  },
  {
   "cell_type": "code",
   "execution_count": 5,
   "metadata": {},
   "outputs": [
    {
     "name": "stdout",
     "output_type": "stream",
     "text": [
      "Epoch: 0001 cost= 1.183976856\n",
      "Epoch: 0002 cost= 0.665388088\n",
      "Epoch: 0003 cost= 0.552835703\n",
      "Epoch: 0004 cost= 0.498673769\n",
      "Epoch: 0005 cost= 0.465541827\n",
      "Epoch: 0006 cost= 0.442598672\n",
      "Epoch: 0007 cost= 0.425587697\n",
      "Epoch: 0008 cost= 0.412172420\n",
      "Epoch: 0009 cost= 0.401452602\n",
      "Epoch: 0010 cost= 0.392427859\n",
      "Epoch: 0011 cost= 0.384765175\n",
      "Epoch: 0012 cost= 0.378138547\n",
      "Epoch: 0013 cost= 0.372444235\n",
      "Epoch: 0014 cost= 0.367294936\n",
      "Epoch: 0015 cost= 0.362726896\n",
      "Epoch: 0016 cost= 0.358616320\n",
      "Epoch: 0017 cost= 0.354850831\n",
      "Epoch: 0018 cost= 0.351414102\n",
      "Epoch: 0019 cost= 0.348307403\n",
      "Epoch: 0020 cost= 0.345438611\n",
      "Epoch: 0021 cost= 0.342765692\n",
      "Epoch: 0022 cost= 0.340246241\n",
      "Epoch: 0023 cost= 0.337944193\n",
      "Epoch: 0024 cost= 0.335769319\n",
      "Epoch: 0025 cost= 0.333688716\n",
      "Optimization Finished!\n",
      "Accuracy: 0.887333\n"
     ]
    }
   ],
   "source": [
    "with tf.Session() as sess:\n",
    "    sess.run(init)\n",
    "    \n",
    "    for epoch in range(training_epochs):\n",
    "        avg_cost = 0\n",
    "        total_batch = int(mnist.train.num_examples/batch_size)\n",
    "        for i in range(total_batch):\n",
    "            batch_xs, batch_ys = mnist.train.next_batch(batch_size)\n",
    "            _, c = sess.run([optimizer, cost], feed_dict={x:batch_xs, y:batch_ys})\n",
    "            avg_cost += c / total_batch\n",
    "        \n",
    "        if (epoch+1) % display_step == 0:\n",
    "            print(\"Epoch:\", \"%04d\" %(epoch+1), \"cost=\", \"{:.9f}\".format(avg_cost))\n",
    "            \n",
    "    print(\"Optimization Finished!\")\n",
    "    \n",
    "    correct_prediction = tf.equal(tf.argmax(pred, 1), tf.argmax(y,1))\n",
    "    accuracy = tf.reduce_mean(tf.cast(correct_prediction, tf.float32))\n",
    "    print(\"Accuracy:\", accuracy.eval({x:mnist.test.images[:3000],\n",
    "                                      y:mnist.test.labels[:3000]}))"
   ]
  }
 ],
 "metadata": {
  "kernelspec": {
   "display_name": "Python 3",
   "language": "python",
   "name": "python3"
  }
 },
 "nbformat": 4,
 "nbformat_minor": 2
}
