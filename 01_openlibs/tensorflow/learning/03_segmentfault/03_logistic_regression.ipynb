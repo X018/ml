{
 "cells": [
  {
   "cell_type": "markdown",
   "metadata": {},
   "source": [
    "# TensorFlow学习笔记（3）：逻辑回归\n",
    "https://segmentfault.com/a/1190000008011596"
   ]
  },
  {
   "cell_type": "markdown",
   "metadata": {},
   "source": [
    "## 前言\n",
    "本文使用tensorflow训练逻辑回归模型，并将其与scikit-learn做比较。数据集来自Andrew Ng的网上公开课程[Deep Learning](http://openclassroom.stanford.edu/MainFolder/DocumentPage.php?course=DeepLearning&doc=exercises/ex4/ex4.html)\n",
    "\n",
    "## 代码"
   ]
  },
  {
   "cell_type": "code",
   "execution_count": 5,
   "metadata": {},
   "outputs": [
    {
     "name": "stdout",
     "output_type": "stream",
     "text": [
      "Coefficients of sklearn: K=[[ 0.14834077  0.15890845]], b=-16.378743\n",
      "-----------------------------------------------------------------\n",
      "0 [ 0.33699557  0.34786162] [ -4.84287721e-09]\n",
      "10 [ 1.15830743  1.22841871] [ 0.02142337]\n",
      "20 [ 1.3378191   1.42655993] [ 0.03946957]\n",
      "30 [ 1.40735555  1.50197566] [ 0.04853692]\n",
      "40 [ 1.43754184  1.53418231] [ 0.0528369]\n",
      "50 [ 1.45117068  1.54856908] [ 0.0548477]\n",
      "60 [ 1.45742035  1.55512536] [ 0.05578375]\n",
      "70 [ 1.46030474  1.55814099] [ 0.0562187]\n",
      "80 [ 1.46163988  1.55953443] [ 0.05642067]\n",
      "90 [ 1.46225858  1.56017947] [ 0.05651437]\n",
      "Coefficients of tensorflow (input should be standardized): K=[ 1.46252561  1.56045783], b=[ 0.05655487]\n",
      "Coefficients of tensorflow (raw input): K=[ 0.14831361  0.15888004], b=[-16.26265144]\n"
     ]
    }
   ],
   "source": [
    "import numpy as np\n",
    "import tensorflow as tf\n",
    "\n",
    "from sklearn.linear_model import LogisticRegression\n",
    "from sklearn import preprocessing\n",
    "\n",
    "x_data = np.loadtxt(\"input/ex4x.dat\").astype(np.float32)\n",
    "y_data = np.loadtxt(\"input/ex4y.dat\").astype(np.float32)\n",
    "\n",
    "scaler = preprocessing.StandardScaler().fit(x_data)\n",
    "x_data_standard = scaler.transform(x_data)\n",
    "\n",
    "# Set C as a large positive number to minimize the regularization effect\n",
    "reg = LogisticRegression(C=999999999, solver=\"newton-cg\")\n",
    "reg.fit(x_data, y_data)\n",
    "print(\"Coefficients of sklearn: K=%s, b=%f\" % (reg.coef_, reg.intercept_))\n",
    "\n",
    "print(\"-----------------------------------------------------------------\")\n",
    "\n",
    "# Now we use tensorflow to get similar results\n",
    "W = tf.Variable(tf.zeros([2, 1]))\n",
    "b = tf.Variable(tf.zeros([1, 1]))\n",
    "y = 1 / (1 + tf.exp(-tf.matmul(x_data_standard, W) + b))\n",
    "loss = tf.reduce_mean(- y_data.reshape(-1, 1) * tf.log(y)\n",
    "                      - (1 - y_data.reshape(-1, 1)) * tf.log(1 - y))\n",
    "\n",
    "optimizer = tf.train.GradientDescentOptimizer(1.3)\n",
    "train = optimizer.minimize(loss)\n",
    "\n",
    "init = tf.global_variables_initializer()\n",
    "\n",
    "sess = tf.Session()\n",
    "sess.run(init)\n",
    "\n",
    "for step in range(100):\n",
    "    sess.run(train)\n",
    "    if step % 10 == 0:\n",
    "        print(step, sess.run(W).flatten(), sess.run(b).flatten())\n",
    "        \n",
    "        \n",
    "print(\"Coefficients of tensorflow (input should be standardized): K=%s, b=%s\" \n",
    "      % (sess.run(W).flatten(), sess.run(b).flatten()))\n",
    "print(\"Coefficients of tensorflow (raw input): K=%s, b=%s\"\n",
    "      % (sess.run(W).flatten() / scaler.scale_, \n",
    "         sess.run(b).flatten() - np.dot(scaler.mean_ / scaler.scale_, \n",
    "                                        sess.run(W))))"
   ]
  },
  {
   "cell_type": "markdown",
   "metadata": {},
   "source": [
    "Problem solved and we are happy. But...\n",
    "\n",
    "I'd like to implement the logistic regression from a multi-class viewpoint instead of binary.\n",
    "\n",
    "In machine learning domain, it is called softmax regression\n",
    "\n",
    "In economic and statistics domain, it is called multinomial logit (MNL) model, proposed by Daniel McFadden, who shared the 2000  Nobel Memorial Prize in Economic Sciences."
   ]
  },
  {
   "cell_type": "markdown",
   "metadata": {},
   "source": [
    "## 多分类"
   ]
  },
  {
   "cell_type": "code",
   "execution_count": 7,
   "metadata": {},
   "outputs": [
    {
     "name": "stdout",
     "output_type": "stream",
     "text": [
      "Coefficients of sklearn: K=[[ 0.07417039  0.07945423]], b=-8.189372\n",
      "A little bit difference at first glance. What about multipy tem with 2\n"
     ]
    },
    {
     "ename": "TypeError",
     "evalue": "reduce_sum() got an unexpected keyword argument 'reducation_indices'",
     "output_type": "error",
     "traceback": [
      "\u001b[0;31m---------------------------------------------------------------------------\u001b[0m",
      "\u001b[0;31mTypeError\u001b[0m                                 Traceback (most recent call last)",
      "\u001b[0;32m<ipython-input-7-994942fcbab9>\u001b[0m in \u001b[0;36m<module>\u001b[0;34m()\u001b[0m\n\u001b[1;32m     26\u001b[0m \u001b[0;34m\u001b[0m\u001b[0m\n\u001b[1;32m     27\u001b[0m loss = tf.reduce_mean(-tf.reduce_sum(y_data_trans * tf.log(y), \n\u001b[0;32m---> 28\u001b[0;31m                                      reducation_indices=[1]))\n\u001b[0m\u001b[1;32m     29\u001b[0m \u001b[0moptimizer\u001b[0m \u001b[0;34m=\u001b[0m \u001b[0mtf\u001b[0m\u001b[0;34m.\u001b[0m\u001b[0mtrain\u001b[0m\u001b[0;34m.\u001b[0m\u001b[0mGradientDescentOptimizer\u001b[0m\u001b[0;34m(\u001b[0m\u001b[0;36m1.3\u001b[0m\u001b[0;34m)\u001b[0m\u001b[0;34m\u001b[0m\u001b[0m\n\u001b[1;32m     30\u001b[0m \u001b[0mtrain\u001b[0m \u001b[0;34m=\u001b[0m \u001b[0moptimizer\u001b[0m\u001b[0;34m.\u001b[0m\u001b[0mminimize\u001b[0m\u001b[0;34m(\u001b[0m\u001b[0mloss\u001b[0m\u001b[0;34m)\u001b[0m\u001b[0;34m\u001b[0m\u001b[0m\n",
      "\u001b[0;31mTypeError\u001b[0m: reduce_sum() got an unexpected keyword argument 'reducation_indices'"
     ]
    }
   ],
   "source": [
    "reg = LogisticRegression(C=999999999, solver=\"newton-cg\", \n",
    "                         multi_class=\"multinomial\")\n",
    "reg.fit(x_data, y_data)\n",
    "print(\"Coefficients of sklearn: K=%s, b=%f\"\n",
    "     % (reg.coef_, reg.intercept_))\n",
    "print(\"A little bit difference at first glance. What about multipy tem with 2\")\n",
    "\n",
    "# Try tensorflow\n",
    "# first 2 is feature number, second 2 is class number\n",
    "W = tf.Variable(tf.zeros([2, 2]))\n",
    "b = tf.Variable(tf.zeros([1, 2]))\n",
    "V = tf.matmul(x_data_standard, W) + b\n",
    "\n",
    "# tensorflow provide a utility function to calculate the probability \n",
    "# of observer n choose alternative i, you can replace it with \n",
    "# `y = tf.exp(V) / tf.reduce_sum(tf.exp(V), keep_dims=True, \n",
    "# reduction_indices=[1])`\n",
    "y = tf.nn.softmax(V)\n",
    "\n",
    "lb = preprocessing.LabelBinarizer()\n",
    "lb.fit(y_data)\n",
    "\n",
    "y_data_trans = lb.transform(y_data)\n",
    "# Only necessary for binary class \n",
    "y_data_trans = np.concatenate((1 - y_data_trans, y_data_trans), axis=1)\n",
    "\n",
    "loss = tf.reduce_mean(-tf.reduce_sum(y_data_trans * tf.log(y), \n",
    "                                     reduction_indices=[1]))\n",
    "optimizer = tf.train.GradientDescentOptimizer(1.3)\n",
    "train = optimizer.minimize(loss)\n",
    "\n",
    "init = tf.global_variables_initializer()\n",
    "\n",
    "sess = tf.Session()\n",
    "sess.run(init)\n",
    "for step in range(100):\n",
    "    sess.run(train)\n",
    "    if step % 10 == 0:\n",
    "        print(step, sess.run(W).flatten(), sess.run(b).flatten())\n",
    "        \n",
    "    print(\"Coefficients of tensorflow (input should be standardized): K=%s, b=%s\" \n",
    "          % (sess.run(W).flatten(), sess.run(b).flatten()))\n",
    "    print(\"Coefficients of tensorflow (raw input): K=%s, b=%s\" \n",
    "          % ((sess.run(W) / scaler.scale_).flatten(), \n",
    "             sess.run(b).flatten() - np.dot(scaler.mean_ / scaler.scale_, \n",
    "                                            sess.run(W))))"
   ]
  }
 ],
 "metadata": {
  "kernelspec": {
   "display_name": "Python 3",
   "language": "python",
   "name": "python3"
  },
  "language_info": {
   "codemirror_mode": {
    "name": "ipython",
    "version": 3
   },
   "file_extension": ".py",
   "mimetype": "text/x-python",
   "name": "python",
   "nbconvert_exporter": "python",
   "pygments_lexer": "ipython3",
   "version": "3.6.1"
  }
 },
 "nbformat": 4,
 "nbformat_minor": 2
}
